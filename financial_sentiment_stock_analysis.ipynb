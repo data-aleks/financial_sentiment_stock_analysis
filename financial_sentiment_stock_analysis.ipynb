{
  "nbformat": 4,
  "nbformat_minor": 0,
  "metadata": {
    "colab": {
      "provenance": [],
      "mount_file_id": "1xjhuRCTrHjwyMHYM6YNli85urkxQqBH4",
      "authorship_tag": "ABX9TyOOd1Ldo6a4fsfKz4ifKRsC",
      "include_colab_link": true
    },
    "kernelspec": {
      "name": "python3",
      "display_name": "Python 3"
    },
    "language_info": {
      "name": "python"
    }
  },
  "cells": [
    {
      "cell_type": "markdown",
      "metadata": {
        "id": "view-in-github",
        "colab_type": "text"
      },
      "source": [
        "<a href=\"https://colab.research.google.com/github/data-aleks/financial_sentiment_stock_analysis/blob/main/financial_sentiment_stock_analysis.ipynb\" target=\"_parent\"><img src=\"https://colab.research.google.com/assets/colab-badge.svg\" alt=\"Open In Colab\"/></a>"
      ]
    },
    {
      "cell_type": "markdown",
      "source": [
        "# **Understanding Public Sentiment through Google Search Data and its Application in Financial Analysis**"
      ],
      "metadata": {
        "id": "zctn2jNS-WFi"
      }
    },
    {
      "cell_type": "markdown",
      "source": [
        "**Overview**"
      ],
      "metadata": {
        "id": "qYkmB905_oR6"
      }
    },
    {
      "cell_type": "markdown",
      "source": [
        "This project serves as a hands-on exploration of sentiment analysis techniques in Python using publicly available web-scraped data. It demonstrates the complete process from data acquisition and cleaning to feature engineering, analysis, and finally, applying these derived sentiment signals to a real-world, complex domain: forecasting short-term stock price movements."
      ],
      "metadata": {
        "id": "H5_394re-ekx"
      }
    },
    {
      "cell_type": "markdown",
      "source": [
        "**Project Structure**\n",
        "1. Loading Article Data ( Scraped using Python )\n",
        "2. Loading Stock Data ( Obtained via https://www.marketwatch.com/)\n",
        "3. Merging Datasets\n",
        "4. Conducting Sentiment Analysis"
      ],
      "metadata": {
        "id": "gS8VYHlE-4eS"
      }
    },
    {
      "cell_type": "markdown",
      "source": [
        "**Learning Objective**"
      ],
      "metadata": {
        "id": "B-EB7ZZK_-bs"
      }
    },
    {
      "cell_type": "markdown",
      "source": [
        "The primary goal of this project was to learn and implement various aspects of sentiment analysis using Python, specifically:"
      ],
      "metadata": {
        "id": "3MSc-5x_AEu4"
      }
    },
    {
      "cell_type": "markdown",
      "source": [
        "*   Acquiring textual data from a public source (Google search results)\n",
        "*   Processing and extracting sentiment insights from unstructured text.\n",
        "*   Aggregating and transforming sentiment into quantitative features.\n",
        "*   Analyzing the relationship between sentiment and external phenomena."
      ],
      "metadata": {
        "id": "LAhKuk9TAJU9"
      }
    },
    {
      "cell_type": "markdown",
      "source": [
        "**Data Acquisition And Core Sentiment Analysis**"
      ],
      "metadata": {
        "id": "UgctcXljAYDX"
      }
    },
    {
      "cell_type": "markdown",
      "source": [
        "The project began by web-scraping Google search results related to the target company. This foundational step allowed for practical experience in collecting unstructured textual data. Crucially, raw articles were then processed:"
      ],
      "metadata": {
        "id": "Fqb6Rg0KAcL3"
      }
    },
    {
      "cell_type": "markdown",
      "source": [
        "\n",
        "\n",
        "*   **Sentiment Extraction**: Each article's title, description, and full text were analyzed using a Python sentiment analysis library (e.g., VADER, which was used to generate compound_score, title_vader_compound, desc_vader_compound). This involved understanding how to apply NLP techniques to quantify emotional tone.\n",
        "*    **Weekly Aggregation**: Individual article-level sentiment scores were aggregated to a weekly frequency. This involved groupby operations to calculate key metrics like the num_articles per week (representing attention volume) and the average sentiment scores across titles, descriptions, and full texts. This aggregation was vital for transitioning from granular text data to structured time-series features.\n",
        "\n"
      ],
      "metadata": {
        "id": "W7lv2S3AAeCa"
      }
    },
    {
      "cell_type": "markdown",
      "source": [
        "**Sentiment Feature Engineering**"
      ],
      "metadata": {
        "id": "OFDM4wJbAxpg"
      }
    },
    {
      "cell_type": "markdown",
      "source": [
        "Beyond basic averages, the project focused on engineering more sophisticated sentiment features:"
      ],
      "metadata": {
        "id": "F7h1zIONA2Z0"
      }
    },
    {
      "cell_type": "markdown",
      "source": [
        "\n",
        "\n",
        "*   **weighted_sentiment**: A key learning point was creating a composite sentiment score by blending different article sentiment components (title, description, full text) with custom weights (e.g., 0.5 for description, 0.3 for full text, 0.2 for title). This demonstrated how to build more robust signals by acknowledging the varying informational value of different text sections.\n",
        "*   **impact_score**: This feature, calculated by multiplying average full text sentiment by the number of articles, explored how to quantify the 'reach' or 'force' of sentiment, assuming that widespread sentiment has a greater effect.\n",
        "*   **sentiment_vol**: Computing the rolling standard deviation of average full text sentiment (avg_full_text_compound) showcased how to measure the consistency or instability of public sentiment over time, offering another dimension to sentiment analys\n",
        "*  **Other financial features** like **log_return**, **rolling_std_5**, and **volume** were also incorporated to provide a comprehensive dataset for the subsequent prediction task.\n"
      ],
      "metadata": {
        "id": "FSreSlcWA45W"
      }
    },
    {
      "cell_type": "markdown",
      "source": [
        "**Analyzing Sentiment's Relationship with Financial Data:**"
      ],
      "metadata": {
        "id": "MNdd-24gBc6s"
      }
    },
    {
      "cell_type": "markdown",
      "source": [
        "This phase focused on interpreting the sentiment features in the context of stock performance:"
      ],
      "metadata": {
        "id": "ufG-a7ztBe6p"
      }
    },
    {
      "cell_type": "markdown",
      "source": [
        "\n",
        "\n",
        "*   **Visual Exploration**: Plotting weeks with strong positive/negative sentiment directly onto the stock's closing price time series (e.g., Figure: Stock Price with Highlighted Sentiment Weeks) provided an intuitive visual understanding of how market emotions might align with price movements. This was a direct application of the engineered sentiment features.\n",
        "*   **Quantitative Relationship (Correlation)**: A correlation matrix was built to quantify the linear relationships between the sentiment features and next_return. While weighted_sentiment showed the strongest positive linear correlation (0.31) with the target, this step highlighted that sentiment alone might not be a perfect linear predictor.\n",
        "*   **Investigating Predictivity (Granger Causality)**: A Granger Causality test was performed on weighted_sentiment against next_return (e.g., Figure: Granger Causality Test: Weighted Sentiment → Next Return). This advanced statistical test helped determine if past sentiment statistically predicts future returns. The test found no statistically significant linear Granger-causal relationship at the tested lags. This important finding demonstrated a critical understanding of the limitations of linear relationships and the nuances of sentiment's influence.\n",
        "\n"
      ],
      "metadata": {
        "id": "vUYPvpRPBhf9"
      }
    },
    {
      "cell_type": "markdown",
      "source": [
        "![image.png](data:image/png;base64,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)"
      ],
      "metadata": {
        "id": "JqH7L3WNCh1N"
      }
    },
    {
      "cell_type": "markdown",
      "source": [
        "**Applying Sentiment in a Predictive Model:**"
      ],
      "metadata": {
        "id": "yFAUjwAtBxbf"
      }
    },
    {
      "cell_type": "markdown",
      "source": [
        "As an application of the learned sentiment analysis, an XGBoost Regressor was developed to predict next_return using the engineered features."
      ],
      "metadata": {
        "id": "igVUaKOjBzWe"
      }
    },
    {
      "cell_type": "markdown",
      "source": [
        "\n",
        "\n",
        "*   **Model Performance**: The model achieved an R² of 0.293 and an RMSE of 0.033 (e.g., Figure: Actual vs Predicted: next_return). This outcome, while not indicative of perfect foresight, demonstrated that the sentiment and financial features, when processed by a powerful non-linear model, can capture a meaningful portion of the variance in stock returns.\n",
        "*   **Learning from Discrepancies**: The project embraced the model's limitations, recognizing that the lack of linear Granger causality, combined with the R² result, illustrates the complexity of financial prediction and the multi-faceted nature of sentiment's impact. It shows that sentiment may contribute through non-linear interactions or by reflecting concurrent market conditions rather than solely as a simple leading indicator.\n",
        "\n"
      ],
      "metadata": {
        "id": "hDW_NwTeB1Ag"
      }
    },
    {
      "cell_type": "markdown",
      "source": [
        "![image.png](data:image/png;base64,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)"
      ],
      "metadata": {
        "id": "2B0misEPCTfV"
      }
    },
    {
      "cell_type": "markdown",
      "source": [
        "**Project Conclusion**"
      ],
      "metadata": {
        "id": "3bMcNg0Q_N0R"
      }
    },
    {
      "cell_type": "markdown",
      "source": [
        "This project successfully provided a robust learning experience in end-to-end sentiment analysis with Python. From collecting raw text data and converting it into sophisticated quantitative features, to statistically and visually analyzing its relationship with financial outcomes, the project provided hands-on exposure to a comprehensive data science workflow. It demonstrated that while direct linear predictability of stock prices from sentiment is challenging, carefully engineered sentiment features can still contribute valuable signals to powerful machine learning models. This journey highlighted the importance of critical data interpretation, understanding model limitations, and the iterative nature of data science."
      ],
      "metadata": {
        "id": "uzCfrGzQ_muM"
      }
    },
    {
      "cell_type": "code",
      "execution_count": 1,
      "metadata": {
        "colab": {
          "base_uri": "https://localhost:8080/"
        },
        "id": "0ReV_8-SutaZ",
        "outputId": "6a878366-9403-4322-c96b-9cc600c432f3"
      },
      "outputs": [
        {
          "output_type": "stream",
          "name": "stderr",
          "text": [
            "[nltk_data] Downloading package vader_lexicon to /root/nltk_data...\n",
            "[nltk_data]   Package vader_lexicon is already up-to-date!\n",
            "[nltk_data] Downloading package punkt to /root/nltk_data...\n",
            "[nltk_data]   Package punkt is already up-to-date!\n",
            "[nltk_data] Downloading package punkt_tab to /root/nltk_data...\n",
            "[nltk_data]   Package punkt_tab is already up-to-date!\n"
          ]
        },
        {
          "output_type": "execute_result",
          "data": {
            "text/plain": [
              "True"
            ]
          },
          "metadata": {},
          "execution_count": 1
        }
      ],
      "source": [
        "import pandas as pd\n",
        "import numpy as np\n",
        "import matplotlib.pyplot as plt\n",
        "import matplotlib.dates as mdates\n",
        "import nltk\n",
        "import re\n",
        "\n",
        "from nltk.tokenize import sent_tokenize\n",
        "from nltk.sentiment.vader import SentimentIntensityAnalyzer\n",
        "from statsmodels.tsa.stattools import grangercausalitytests\n",
        "from datetime import datetime, timedelta\n",
        "from bs4 import BeautifulSoup\n",
        "from xgboost import XGBRegressor\n",
        "from sklearn.model_selection import train_test_split\n",
        "from sklearn.metrics import r2_score, mean_squared_error\n",
        "\n",
        "nltk.download('vader_lexicon')\n",
        "nltk.download('punkt')\n",
        "nltk.download('punkt_tab')"
      ]
    },
    {
      "cell_type": "markdown",
      "source": [
        "# 1. **Loading article data**"
      ],
      "metadata": {
        "id": "_ZLAyl0fDgfw"
      }
    },
    {
      "cell_type": "markdown",
      "source": [
        "In this step we load our scraped article data from google searches ( scraping done using python script )"
      ],
      "metadata": {
        "id": "GgDPINakjorp"
      }
    },
    {
      "cell_type": "markdown",
      "source": [
        "## 1.1 **Read and explore scraped data**"
      ],
      "metadata": {
        "id": "uVsIK2-KI5cD"
      }
    },
    {
      "cell_type": "code",
      "source": [
        "df_pfizer_articles = pd.read_csv('./drive/MyDrive/datasets/pfizer/scraped_articles_data_combined.csv')"
      ],
      "metadata": {
        "id": "dZks8iecvPgb"
      },
      "execution_count": 2,
      "outputs": []
    },
    {
      "cell_type": "markdown",
      "source": [
        "Function to parse the text an remove any html elements."
      ],
      "metadata": {
        "id": "h2nX1BP7QYep"
      }
    },
    {
      "cell_type": "code",
      "source": [
        "def clean_text(text):\n",
        "    # Remove HTML\n",
        "    soup = BeautifulSoup(text, \"html.parser\")\n",
        "    text_only = soup.get_text()\n",
        "\n",
        "    # Remove special characters (keep alphanumeric and basic punctuation)\n",
        "    text_cleaned = re.sub(r'[^a-zA-Z0-9\\s.,!?\\'\\\"]+', '', text_only)\n",
        "\n",
        "    # Normalize whitespace\n",
        "    return re.sub(r'\\s+', ' ', text_cleaned).strip()\n"
      ],
      "metadata": {
        "id": "Gukk-aaj86of"
      },
      "execution_count": 3,
      "outputs": []
    },
    {
      "cell_type": "markdown",
      "source": [],
      "metadata": {
        "id": "NxXdJ3tDI79V"
      }
    },
    {
      "cell_type": "code",
      "source": [
        "df_pfizer_articles.info()"
      ],
      "metadata": {
        "colab": {
          "base_uri": "https://localhost:8080/"
        },
        "id": "LF-2nyN-vcil",
        "outputId": "f01d8224-e6d4-43aa-adbe-94b7dbbd2bdd"
      },
      "execution_count": 4,
      "outputs": [
        {
          "output_type": "stream",
          "name": "stdout",
          "text": [
            "<class 'pandas.core.frame.DataFrame'>\n",
            "RangeIndex: 1487 entries, 0 to 1486\n",
            "Data columns (total 6 columns):\n",
            " #   Column       Non-Null Count  Dtype \n",
            "---  ------       --------------  ----- \n",
            " 0   keyword      1487 non-null   object\n",
            " 1   link         1487 non-null   object\n",
            " 2   title        1487 non-null   object\n",
            " 3   description  1487 non-null   object\n",
            " 4   date         1487 non-null   object\n",
            " 5   full_text    1315 non-null   object\n",
            "dtypes: object(6)\n",
            "memory usage: 69.8+ KB\n"
          ]
        }
      ]
    },
    {
      "cell_type": "code",
      "source": [
        "df_pfizer_articles.describe()"
      ],
      "metadata": {
        "colab": {
          "base_uri": "https://localhost:8080/",
          "height": 175
        },
        "id": "XZFnO3wkvjIp",
        "outputId": "09652242-fc22-4036-fa08-eb1639a4f39e"
      },
      "execution_count": 5,
      "outputs": [
        {
          "output_type": "execute_result",
          "data": {
            "text/plain": [
              "       keyword                                               link  \\\n",
              "count     1487                                               1487   \n",
              "unique       5                                               1033   \n",
              "top     Pfizer  https://finance.yahoo.com/news/bernstein-reaff...   \n",
              "freq       300                                                  4   \n",
              "\n",
              "                                              title  \\\n",
              "count                                          1487   \n",
              "unique                                          982   \n",
              "top     Pfizer Declares Third-Quarter 2025 Dividend   \n",
              "freq                                              6   \n",
              "\n",
              "                                              description         date  \\\n",
              "count                                                1487         1487   \n",
              "unique                                               1168          420   \n",
              "top     Investing.com -- Pfizer Inc. (NYSE:PFE) report...  1 month ago   \n",
              "freq                                                    8          215   \n",
              "\n",
              "                                                full_text  \n",
              "count                                                1315  \n",
              "unique                                                904  \n",
              "top     Try unlimited access Only £1 for 4 weeks\\n\\nTh...  \n",
              "freq                                                   30  "
            ],
            "text/html": [
              "\n",
              "  <div id=\"df-c90fb164-41d8-488b-a6fa-d5c93a8837e1\" class=\"colab-df-container\">\n",
              "    <div>\n",
              "<style scoped>\n",
              "    .dataframe tbody tr th:only-of-type {\n",
              "        vertical-align: middle;\n",
              "    }\n",
              "\n",
              "    .dataframe tbody tr th {\n",
              "        vertical-align: top;\n",
              "    }\n",
              "\n",
              "    .dataframe thead th {\n",
              "        text-align: right;\n",
              "    }\n",
              "</style>\n",
              "<table border=\"1\" class=\"dataframe\">\n",
              "  <thead>\n",
              "    <tr style=\"text-align: right;\">\n",
              "      <th></th>\n",
              "      <th>keyword</th>\n",
              "      <th>link</th>\n",
              "      <th>title</th>\n",
              "      <th>description</th>\n",
              "      <th>date</th>\n",
              "      <th>full_text</th>\n",
              "    </tr>\n",
              "  </thead>\n",
              "  <tbody>\n",
              "    <tr>\n",
              "      <th>count</th>\n",
              "      <td>1487</td>\n",
              "      <td>1487</td>\n",
              "      <td>1487</td>\n",
              "      <td>1487</td>\n",
              "      <td>1487</td>\n",
              "      <td>1315</td>\n",
              "    </tr>\n",
              "    <tr>\n",
              "      <th>unique</th>\n",
              "      <td>5</td>\n",
              "      <td>1033</td>\n",
              "      <td>982</td>\n",
              "      <td>1168</td>\n",
              "      <td>420</td>\n",
              "      <td>904</td>\n",
              "    </tr>\n",
              "    <tr>\n",
              "      <th>top</th>\n",
              "      <td>Pfizer</td>\n",
              "      <td>https://finance.yahoo.com/news/bernstein-reaff...</td>\n",
              "      <td>Pfizer Declares Third-Quarter 2025 Dividend</td>\n",
              "      <td>Investing.com -- Pfizer Inc. (NYSE:PFE) report...</td>\n",
              "      <td>1 month ago</td>\n",
              "      <td>Try unlimited access Only £1 for 4 weeks\\n\\nTh...</td>\n",
              "    </tr>\n",
              "    <tr>\n",
              "      <th>freq</th>\n",
              "      <td>300</td>\n",
              "      <td>4</td>\n",
              "      <td>6</td>\n",
              "      <td>8</td>\n",
              "      <td>215</td>\n",
              "      <td>30</td>\n",
              "    </tr>\n",
              "  </tbody>\n",
              "</table>\n",
              "</div>\n",
              "    <div class=\"colab-df-buttons\">\n",
              "\n",
              "  <div class=\"colab-df-container\">\n",
              "    <button class=\"colab-df-convert\" onclick=\"convertToInteractive('df-c90fb164-41d8-488b-a6fa-d5c93a8837e1')\"\n",
              "            title=\"Convert this dataframe to an interactive table.\"\n",
              "            style=\"display:none;\">\n",
              "\n",
              "  <svg xmlns=\"http://www.w3.org/2000/svg\" height=\"24px\" viewBox=\"0 -960 960 960\">\n",
              "    <path d=\"M120-120v-720h720v720H120Zm60-500h600v-160H180v160Zm220 220h160v-160H400v160Zm0 220h160v-160H400v160ZM180-400h160v-160H180v160Zm440 0h160v-160H620v160ZM180-180h160v-160H180v160Zm440 0h160v-160H620v160Z\"/>\n",
              "  </svg>\n",
              "    </button>\n",
              "\n",
              "  <style>\n",
              "    .colab-df-container {\n",
              "      display:flex;\n",
              "      gap: 12px;\n",
              "    }\n",
              "\n",
              "    .colab-df-convert {\n",
              "      background-color: #E8F0FE;\n",
              "      border: none;\n",
              "      border-radius: 50%;\n",
              "      cursor: pointer;\n",
              "      display: none;\n",
              "      fill: #1967D2;\n",
              "      height: 32px;\n",
              "      padding: 0 0 0 0;\n",
              "      width: 32px;\n",
              "    }\n",
              "\n",
              "    .colab-df-convert:hover {\n",
              "      background-color: #E2EBFA;\n",
              "      box-shadow: 0px 1px 2px rgba(60, 64, 67, 0.3), 0px 1px 3px 1px rgba(60, 64, 67, 0.15);\n",
              "      fill: #174EA6;\n",
              "    }\n",
              "\n",
              "    .colab-df-buttons div {\n",
              "      margin-bottom: 4px;\n",
              "    }\n",
              "\n",
              "    [theme=dark] .colab-df-convert {\n",
              "      background-color: #3B4455;\n",
              "      fill: #D2E3FC;\n",
              "    }\n",
              "\n",
              "    [theme=dark] .colab-df-convert:hover {\n",
              "      background-color: #434B5C;\n",
              "      box-shadow: 0px 1px 3px 1px rgba(0, 0, 0, 0.15);\n",
              "      filter: drop-shadow(0px 1px 2px rgba(0, 0, 0, 0.3));\n",
              "      fill: #FFFFFF;\n",
              "    }\n",
              "  </style>\n",
              "\n",
              "    <script>\n",
              "      const buttonEl =\n",
              "        document.querySelector('#df-c90fb164-41d8-488b-a6fa-d5c93a8837e1 button.colab-df-convert');\n",
              "      buttonEl.style.display =\n",
              "        google.colab.kernel.accessAllowed ? 'block' : 'none';\n",
              "\n",
              "      async function convertToInteractive(key) {\n",
              "        const element = document.querySelector('#df-c90fb164-41d8-488b-a6fa-d5c93a8837e1');\n",
              "        const dataTable =\n",
              "          await google.colab.kernel.invokeFunction('convertToInteractive',\n",
              "                                                    [key], {});\n",
              "        if (!dataTable) return;\n",
              "\n",
              "        const docLinkHtml = 'Like what you see? Visit the ' +\n",
              "          '<a target=\"_blank\" href=https://colab.research.google.com/notebooks/data_table.ipynb>data table notebook</a>'\n",
              "          + ' to learn more about interactive tables.';\n",
              "        element.innerHTML = '';\n",
              "        dataTable['output_type'] = 'display_data';\n",
              "        await google.colab.output.renderOutput(dataTable, element);\n",
              "        const docLink = document.createElement('div');\n",
              "        docLink.innerHTML = docLinkHtml;\n",
              "        element.appendChild(docLink);\n",
              "      }\n",
              "    </script>\n",
              "  </div>\n",
              "\n",
              "\n",
              "    <div id=\"df-f177726b-d4a0-4118-8ddc-04475b26eb17\">\n",
              "      <button class=\"colab-df-quickchart\" onclick=\"quickchart('df-f177726b-d4a0-4118-8ddc-04475b26eb17')\"\n",
              "                title=\"Suggest charts\"\n",
              "                style=\"display:none;\">\n",
              "\n",
              "<svg xmlns=\"http://www.w3.org/2000/svg\" height=\"24px\"viewBox=\"0 0 24 24\"\n",
              "     width=\"24px\">\n",
              "    <g>\n",
              "        <path d=\"M19 3H5c-1.1 0-2 .9-2 2v14c0 1.1.9 2 2 2h14c1.1 0 2-.9 2-2V5c0-1.1-.9-2-2-2zM9 17H7v-7h2v7zm4 0h-2V7h2v10zm4 0h-2v-4h2v4z\"/>\n",
              "    </g>\n",
              "</svg>\n",
              "      </button>\n",
              "\n",
              "<style>\n",
              "  .colab-df-quickchart {\n",
              "      --bg-color: #E8F0FE;\n",
              "      --fill-color: #1967D2;\n",
              "      --hover-bg-color: #E2EBFA;\n",
              "      --hover-fill-color: #174EA6;\n",
              "      --disabled-fill-color: #AAA;\n",
              "      --disabled-bg-color: #DDD;\n",
              "  }\n",
              "\n",
              "  [theme=dark] .colab-df-quickchart {\n",
              "      --bg-color: #3B4455;\n",
              "      --fill-color: #D2E3FC;\n",
              "      --hover-bg-color: #434B5C;\n",
              "      --hover-fill-color: #FFFFFF;\n",
              "      --disabled-bg-color: #3B4455;\n",
              "      --disabled-fill-color: #666;\n",
              "  }\n",
              "\n",
              "  .colab-df-quickchart {\n",
              "    background-color: var(--bg-color);\n",
              "    border: none;\n",
              "    border-radius: 50%;\n",
              "    cursor: pointer;\n",
              "    display: none;\n",
              "    fill: var(--fill-color);\n",
              "    height: 32px;\n",
              "    padding: 0;\n",
              "    width: 32px;\n",
              "  }\n",
              "\n",
              "  .colab-df-quickchart:hover {\n",
              "    background-color: var(--hover-bg-color);\n",
              "    box-shadow: 0 1px 2px rgba(60, 64, 67, 0.3), 0 1px 3px 1px rgba(60, 64, 67, 0.15);\n",
              "    fill: var(--button-hover-fill-color);\n",
              "  }\n",
              "\n",
              "  .colab-df-quickchart-complete:disabled,\n",
              "  .colab-df-quickchart-complete:disabled:hover {\n",
              "    background-color: var(--disabled-bg-color);\n",
              "    fill: var(--disabled-fill-color);\n",
              "    box-shadow: none;\n",
              "  }\n",
              "\n",
              "  .colab-df-spinner {\n",
              "    border: 2px solid var(--fill-color);\n",
              "    border-color: transparent;\n",
              "    border-bottom-color: var(--fill-color);\n",
              "    animation:\n",
              "      spin 1s steps(1) infinite;\n",
              "  }\n",
              "\n",
              "  @keyframes spin {\n",
              "    0% {\n",
              "      border-color: transparent;\n",
              "      border-bottom-color: var(--fill-color);\n",
              "      border-left-color: var(--fill-color);\n",
              "    }\n",
              "    20% {\n",
              "      border-color: transparent;\n",
              "      border-left-color: var(--fill-color);\n",
              "      border-top-color: var(--fill-color);\n",
              "    }\n",
              "    30% {\n",
              "      border-color: transparent;\n",
              "      border-left-color: var(--fill-color);\n",
              "      border-top-color: var(--fill-color);\n",
              "      border-right-color: var(--fill-color);\n",
              "    }\n",
              "    40% {\n",
              "      border-color: transparent;\n",
              "      border-right-color: var(--fill-color);\n",
              "      border-top-color: var(--fill-color);\n",
              "    }\n",
              "    60% {\n",
              "      border-color: transparent;\n",
              "      border-right-color: var(--fill-color);\n",
              "    }\n",
              "    80% {\n",
              "      border-color: transparent;\n",
              "      border-right-color: var(--fill-color);\n",
              "      border-bottom-color: var(--fill-color);\n",
              "    }\n",
              "    90% {\n",
              "      border-color: transparent;\n",
              "      border-bottom-color: var(--fill-color);\n",
              "    }\n",
              "  }\n",
              "</style>\n",
              "\n",
              "      <script>\n",
              "        async function quickchart(key) {\n",
              "          const quickchartButtonEl =\n",
              "            document.querySelector('#' + key + ' button');\n",
              "          quickchartButtonEl.disabled = true;  // To prevent multiple clicks.\n",
              "          quickchartButtonEl.classList.add('colab-df-spinner');\n",
              "          try {\n",
              "            const charts = await google.colab.kernel.invokeFunction(\n",
              "                'suggestCharts', [key], {});\n",
              "          } catch (error) {\n",
              "            console.error('Error during call to suggestCharts:', error);\n",
              "          }\n",
              "          quickchartButtonEl.classList.remove('colab-df-spinner');\n",
              "          quickchartButtonEl.classList.add('colab-df-quickchart-complete');\n",
              "        }\n",
              "        (() => {\n",
              "          let quickchartButtonEl =\n",
              "            document.querySelector('#df-f177726b-d4a0-4118-8ddc-04475b26eb17 button');\n",
              "          quickchartButtonEl.style.display =\n",
              "            google.colab.kernel.accessAllowed ? 'block' : 'none';\n",
              "        })();\n",
              "      </script>\n",
              "    </div>\n",
              "\n",
              "    </div>\n",
              "  </div>\n"
            ],
            "application/vnd.google.colaboratory.intrinsic+json": {
              "type": "dataframe",
              "summary": "{\n  \"name\": \"df_pfizer_articles\",\n  \"rows\": 4,\n  \"fields\": [\n    {\n      \"column\": \"keyword\",\n      \"properties\": {\n        \"dtype\": \"string\",\n        \"num_unique_values\": 4,\n        \"samples\": [\n          5,\n          \"300\",\n          \"1487\"\n        ],\n        \"semantic_type\": \"\",\n        \"description\": \"\"\n      }\n    },\n    {\n      \"column\": \"link\",\n      \"properties\": {\n        \"dtype\": \"string\",\n        \"num_unique_values\": 4,\n        \"samples\": [\n          1033,\n          \"4\",\n          \"1487\"\n        ],\n        \"semantic_type\": \"\",\n        \"description\": \"\"\n      }\n    },\n    {\n      \"column\": \"title\",\n      \"properties\": {\n        \"dtype\": \"string\",\n        \"num_unique_values\": 4,\n        \"samples\": [\n          982,\n          \"6\",\n          \"1487\"\n        ],\n        \"semantic_type\": \"\",\n        \"description\": \"\"\n      }\n    },\n    {\n      \"column\": \"description\",\n      \"properties\": {\n        \"dtype\": \"string\",\n        \"num_unique_values\": 4,\n        \"samples\": [\n          1168,\n          \"8\",\n          \"1487\"\n        ],\n        \"semantic_type\": \"\",\n        \"description\": \"\"\n      }\n    },\n    {\n      \"column\": \"date\",\n      \"properties\": {\n        \"dtype\": \"string\",\n        \"num_unique_values\": 4,\n        \"samples\": [\n          420,\n          \"215\",\n          \"1487\"\n        ],\n        \"semantic_type\": \"\",\n        \"description\": \"\"\n      }\n    },\n    {\n      \"column\": \"full_text\",\n      \"properties\": {\n        \"dtype\": \"string\",\n        \"num_unique_values\": 4,\n        \"samples\": [\n          904,\n          \"30\",\n          \"1315\"\n        ],\n        \"semantic_type\": \"\",\n        \"description\": \"\"\n      }\n    }\n  ]\n}"
            }
          },
          "metadata": {},
          "execution_count": 5
        }
      ]
    },
    {
      "cell_type": "code",
      "source": [
        "df_pfizer_articles.dropna(subset=['full_text'], inplace=True)"
      ],
      "metadata": {
        "id": "RomA57Jq6KSS"
      },
      "execution_count": 6,
      "outputs": []
    },
    {
      "cell_type": "code",
      "source": [
        "df_pfizer_articles.head()"
      ],
      "metadata": {
        "colab": {
          "base_uri": "https://localhost:8080/",
          "height": 206
        },
        "id": "QdudCTRO6WUD",
        "outputId": "be4b940e-fc59-4d43-88bb-29aa2ec30f91"
      },
      "execution_count": 7,
      "outputs": [
        {
          "output_type": "execute_result",
          "data": {
            "text/plain": [
              "  keyword                                               link  \\\n",
              "0  Pfizer  https://www.businesswire.com/news/home/2025062...   \n",
              "1  Pfizer  https://www.dailymail.co.uk/news/article-14795...   \n",
              "2  Pfizer  https://www.chemistryworld.com/careers/the-sta...   \n",
              "3  Pfizer  https://www.fiercepharma.com/pharma/pfizers-he...   \n",
              "4  Pfizer          https://firstwordpharma.com/story/5976358   \n",
              "\n",
              "                                               title  \\\n",
              "0        Pfizer Declares Third-Quarter 2025 Dividend   \n",
              "1  I was a healthy father-of-four until I had the...   \n",
              "2  The startups that grew out of the Pfizer redun...   \n",
              "3  Pfizer's hemophilia drug Hympavzi notches phas...   \n",
              "4  Pfizer sets up Hympavzi expansion into haemoph...   \n",
              "\n",
              "                                         description          date  \\\n",
              "0  Pfizer Inc. (NYSE: PFE) today announced that i...  22 hours ago   \n",
              "1  Dean Valentine, from Essex, claims he has spen...     1 day ago   \n",
              "2  18 months on, three former Pfizer employees ex...  11 hours ago   \n",
              "3  Successful trial data in a subset of hemophili...   7 hours ago   \n",
              "4  Already approved in key markets for severe hae...   9 hours ago   \n",
              "\n",
              "                                           full_text  \n",
              "0  NEW YORK--(BUSINESS WIRE)--Pfizer Inc. (NYSE: ...  \n",
              "1  Approaching his late 50s, Dean Valentine was a...  \n",
              "2  18 months on, three former Pfizer employees ex...  \n",
              "3  Subscribe\\nPHARMA\\nPfizer's hemophilia drug Hy...  \n",
              "4  RELATED NEWS\\nVIEW MORE RELATED NEWS\\nRELATED ...  "
            ],
            "text/html": [
              "\n",
              "  <div id=\"df-52f38c10-8d73-4571-ae4a-d6180098bfa3\" class=\"colab-df-container\">\n",
              "    <div>\n",
              "<style scoped>\n",
              "    .dataframe tbody tr th:only-of-type {\n",
              "        vertical-align: middle;\n",
              "    }\n",
              "\n",
              "    .dataframe tbody tr th {\n",
              "        vertical-align: top;\n",
              "    }\n",
              "\n",
              "    .dataframe thead th {\n",
              "        text-align: right;\n",
              "    }\n",
              "</style>\n",
              "<table border=\"1\" class=\"dataframe\">\n",
              "  <thead>\n",
              "    <tr style=\"text-align: right;\">\n",
              "      <th></th>\n",
              "      <th>keyword</th>\n",
              "      <th>link</th>\n",
              "      <th>title</th>\n",
              "      <th>description</th>\n",
              "      <th>date</th>\n",
              "      <th>full_text</th>\n",
              "    </tr>\n",
              "  </thead>\n",
              "  <tbody>\n",
              "    <tr>\n",
              "      <th>0</th>\n",
              "      <td>Pfizer</td>\n",
              "      <td>https://www.businesswire.com/news/home/2025062...</td>\n",
              "      <td>Pfizer Declares Third-Quarter 2025 Dividend</td>\n",
              "      <td>Pfizer Inc. (NYSE: PFE) today announced that i...</td>\n",
              "      <td>22 hours ago</td>\n",
              "      <td>NEW YORK--(BUSINESS WIRE)--Pfizer Inc. (NYSE: ...</td>\n",
              "    </tr>\n",
              "    <tr>\n",
              "      <th>1</th>\n",
              "      <td>Pfizer</td>\n",
              "      <td>https://www.dailymail.co.uk/news/article-14795...</td>\n",
              "      <td>I was a healthy father-of-four until I had the...</td>\n",
              "      <td>Dean Valentine, from Essex, claims he has spen...</td>\n",
              "      <td>1 day ago</td>\n",
              "      <td>Approaching his late 50s, Dean Valentine was a...</td>\n",
              "    </tr>\n",
              "    <tr>\n",
              "      <th>2</th>\n",
              "      <td>Pfizer</td>\n",
              "      <td>https://www.chemistryworld.com/careers/the-sta...</td>\n",
              "      <td>The startups that grew out of the Pfizer redun...</td>\n",
              "      <td>18 months on, three former Pfizer employees ex...</td>\n",
              "      <td>11 hours ago</td>\n",
              "      <td>18 months on, three former Pfizer employees ex...</td>\n",
              "    </tr>\n",
              "    <tr>\n",
              "      <th>3</th>\n",
              "      <td>Pfizer</td>\n",
              "      <td>https://www.fiercepharma.com/pharma/pfizers-he...</td>\n",
              "      <td>Pfizer's hemophilia drug Hympavzi notches phas...</td>\n",
              "      <td>Successful trial data in a subset of hemophili...</td>\n",
              "      <td>7 hours ago</td>\n",
              "      <td>Subscribe\\nPHARMA\\nPfizer's hemophilia drug Hy...</td>\n",
              "    </tr>\n",
              "    <tr>\n",
              "      <th>4</th>\n",
              "      <td>Pfizer</td>\n",
              "      <td>https://firstwordpharma.com/story/5976358</td>\n",
              "      <td>Pfizer sets up Hympavzi expansion into haemoph...</td>\n",
              "      <td>Already approved in key markets for severe hae...</td>\n",
              "      <td>9 hours ago</td>\n",
              "      <td>RELATED NEWS\\nVIEW MORE RELATED NEWS\\nRELATED ...</td>\n",
              "    </tr>\n",
              "  </tbody>\n",
              "</table>\n",
              "</div>\n",
              "    <div class=\"colab-df-buttons\">\n",
              "\n",
              "  <div class=\"colab-df-container\">\n",
              "    <button class=\"colab-df-convert\" onclick=\"convertToInteractive('df-52f38c10-8d73-4571-ae4a-d6180098bfa3')\"\n",
              "            title=\"Convert this dataframe to an interactive table.\"\n",
              "            style=\"display:none;\">\n",
              "\n",
              "  <svg xmlns=\"http://www.w3.org/2000/svg\" height=\"24px\" viewBox=\"0 -960 960 960\">\n",
              "    <path d=\"M120-120v-720h720v720H120Zm60-500h600v-160H180v160Zm220 220h160v-160H400v160Zm0 220h160v-160H400v160ZM180-400h160v-160H180v160Zm440 0h160v-160H620v160ZM180-180h160v-160H180v160Zm440 0h160v-160H620v160Z\"/>\n",
              "  </svg>\n",
              "    </button>\n",
              "\n",
              "  <style>\n",
              "    .colab-df-container {\n",
              "      display:flex;\n",
              "      gap: 12px;\n",
              "    }\n",
              "\n",
              "    .colab-df-convert {\n",
              "      background-color: #E8F0FE;\n",
              "      border: none;\n",
              "      border-radius: 50%;\n",
              "      cursor: pointer;\n",
              "      display: none;\n",
              "      fill: #1967D2;\n",
              "      height: 32px;\n",
              "      padding: 0 0 0 0;\n",
              "      width: 32px;\n",
              "    }\n",
              "\n",
              "    .colab-df-convert:hover {\n",
              "      background-color: #E2EBFA;\n",
              "      box-shadow: 0px 1px 2px rgba(60, 64, 67, 0.3), 0px 1px 3px 1px rgba(60, 64, 67, 0.15);\n",
              "      fill: #174EA6;\n",
              "    }\n",
              "\n",
              "    .colab-df-buttons div {\n",
              "      margin-bottom: 4px;\n",
              "    }\n",
              "\n",
              "    [theme=dark] .colab-df-convert {\n",
              "      background-color: #3B4455;\n",
              "      fill: #D2E3FC;\n",
              "    }\n",
              "\n",
              "    [theme=dark] .colab-df-convert:hover {\n",
              "      background-color: #434B5C;\n",
              "      box-shadow: 0px 1px 3px 1px rgba(0, 0, 0, 0.15);\n",
              "      filter: drop-shadow(0px 1px 2px rgba(0, 0, 0, 0.3));\n",
              "      fill: #FFFFFF;\n",
              "    }\n",
              "  </style>\n",
              "\n",
              "    <script>\n",
              "      const buttonEl =\n",
              "        document.querySelector('#df-52f38c10-8d73-4571-ae4a-d6180098bfa3 button.colab-df-convert');\n",
              "      buttonEl.style.display =\n",
              "        google.colab.kernel.accessAllowed ? 'block' : 'none';\n",
              "\n",
              "      async function convertToInteractive(key) {\n",
              "        const element = document.querySelector('#df-52f38c10-8d73-4571-ae4a-d6180098bfa3');\n",
              "        const dataTable =\n",
              "          await google.colab.kernel.invokeFunction('convertToInteractive',\n",
              "                                                    [key], {});\n",
              "        if (!dataTable) return;\n",
              "\n",
              "        const docLinkHtml = 'Like what you see? Visit the ' +\n",
              "          '<a target=\"_blank\" href=https://colab.research.google.com/notebooks/data_table.ipynb>data table notebook</a>'\n",
              "          + ' to learn more about interactive tables.';\n",
              "        element.innerHTML = '';\n",
              "        dataTable['output_type'] = 'display_data';\n",
              "        await google.colab.output.renderOutput(dataTable, element);\n",
              "        const docLink = document.createElement('div');\n",
              "        docLink.innerHTML = docLinkHtml;\n",
              "        element.appendChild(docLink);\n",
              "      }\n",
              "    </script>\n",
              "  </div>\n",
              "\n",
              "\n",
              "    <div id=\"df-fa71d379-3c24-4ff6-9b4e-1c42dc0526ec\">\n",
              "      <button class=\"colab-df-quickchart\" onclick=\"quickchart('df-fa71d379-3c24-4ff6-9b4e-1c42dc0526ec')\"\n",
              "                title=\"Suggest charts\"\n",
              "                style=\"display:none;\">\n",
              "\n",
              "<svg xmlns=\"http://www.w3.org/2000/svg\" height=\"24px\"viewBox=\"0 0 24 24\"\n",
              "     width=\"24px\">\n",
              "    <g>\n",
              "        <path d=\"M19 3H5c-1.1 0-2 .9-2 2v14c0 1.1.9 2 2 2h14c1.1 0 2-.9 2-2V5c0-1.1-.9-2-2-2zM9 17H7v-7h2v7zm4 0h-2V7h2v10zm4 0h-2v-4h2v4z\"/>\n",
              "    </g>\n",
              "</svg>\n",
              "      </button>\n",
              "\n",
              "<style>\n",
              "  .colab-df-quickchart {\n",
              "      --bg-color: #E8F0FE;\n",
              "      --fill-color: #1967D2;\n",
              "      --hover-bg-color: #E2EBFA;\n",
              "      --hover-fill-color: #174EA6;\n",
              "      --disabled-fill-color: #AAA;\n",
              "      --disabled-bg-color: #DDD;\n",
              "  }\n",
              "\n",
              "  [theme=dark] .colab-df-quickchart {\n",
              "      --bg-color: #3B4455;\n",
              "      --fill-color: #D2E3FC;\n",
              "      --hover-bg-color: #434B5C;\n",
              "      --hover-fill-color: #FFFFFF;\n",
              "      --disabled-bg-color: #3B4455;\n",
              "      --disabled-fill-color: #666;\n",
              "  }\n",
              "\n",
              "  .colab-df-quickchart {\n",
              "    background-color: var(--bg-color);\n",
              "    border: none;\n",
              "    border-radius: 50%;\n",
              "    cursor: pointer;\n",
              "    display: none;\n",
              "    fill: var(--fill-color);\n",
              "    height: 32px;\n",
              "    padding: 0;\n",
              "    width: 32px;\n",
              "  }\n",
              "\n",
              "  .colab-df-quickchart:hover {\n",
              "    background-color: var(--hover-bg-color);\n",
              "    box-shadow: 0 1px 2px rgba(60, 64, 67, 0.3), 0 1px 3px 1px rgba(60, 64, 67, 0.15);\n",
              "    fill: var(--button-hover-fill-color);\n",
              "  }\n",
              "\n",
              "  .colab-df-quickchart-complete:disabled,\n",
              "  .colab-df-quickchart-complete:disabled:hover {\n",
              "    background-color: var(--disabled-bg-color);\n",
              "    fill: var(--disabled-fill-color);\n",
              "    box-shadow: none;\n",
              "  }\n",
              "\n",
              "  .colab-df-spinner {\n",
              "    border: 2px solid var(--fill-color);\n",
              "    border-color: transparent;\n",
              "    border-bottom-color: var(--fill-color);\n",
              "    animation:\n",
              "      spin 1s steps(1) infinite;\n",
              "  }\n",
              "\n",
              "  @keyframes spin {\n",
              "    0% {\n",
              "      border-color: transparent;\n",
              "      border-bottom-color: var(--fill-color);\n",
              "      border-left-color: var(--fill-color);\n",
              "    }\n",
              "    20% {\n",
              "      border-color: transparent;\n",
              "      border-left-color: var(--fill-color);\n",
              "      border-top-color: var(--fill-color);\n",
              "    }\n",
              "    30% {\n",
              "      border-color: transparent;\n",
              "      border-left-color: var(--fill-color);\n",
              "      border-top-color: var(--fill-color);\n",
              "      border-right-color: var(--fill-color);\n",
              "    }\n",
              "    40% {\n",
              "      border-color: transparent;\n",
              "      border-right-color: var(--fill-color);\n",
              "      border-top-color: var(--fill-color);\n",
              "    }\n",
              "    60% {\n",
              "      border-color: transparent;\n",
              "      border-right-color: var(--fill-color);\n",
              "    }\n",
              "    80% {\n",
              "      border-color: transparent;\n",
              "      border-right-color: var(--fill-color);\n",
              "      border-bottom-color: var(--fill-color);\n",
              "    }\n",
              "    90% {\n",
              "      border-color: transparent;\n",
              "      border-bottom-color: var(--fill-color);\n",
              "    }\n",
              "  }\n",
              "</style>\n",
              "\n",
              "      <script>\n",
              "        async function quickchart(key) {\n",
              "          const quickchartButtonEl =\n",
              "            document.querySelector('#' + key + ' button');\n",
              "          quickchartButtonEl.disabled = true;  // To prevent multiple clicks.\n",
              "          quickchartButtonEl.classList.add('colab-df-spinner');\n",
              "          try {\n",
              "            const charts = await google.colab.kernel.invokeFunction(\n",
              "                'suggestCharts', [key], {});\n",
              "          } catch (error) {\n",
              "            console.error('Error during call to suggestCharts:', error);\n",
              "          }\n",
              "          quickchartButtonEl.classList.remove('colab-df-spinner');\n",
              "          quickchartButtonEl.classList.add('colab-df-quickchart-complete');\n",
              "        }\n",
              "        (() => {\n",
              "          let quickchartButtonEl =\n",
              "            document.querySelector('#df-fa71d379-3c24-4ff6-9b4e-1c42dc0526ec button');\n",
              "          quickchartButtonEl.style.display =\n",
              "            google.colab.kernel.accessAllowed ? 'block' : 'none';\n",
              "        })();\n",
              "      </script>\n",
              "    </div>\n",
              "\n",
              "    </div>\n",
              "  </div>\n"
            ],
            "application/vnd.google.colaboratory.intrinsic+json": {
              "type": "dataframe",
              "variable_name": "df_pfizer_articles",
              "summary": "{\n  \"name\": \"df_pfizer_articles\",\n  \"rows\": 1315,\n  \"fields\": [\n    {\n      \"column\": \"keyword\",\n      \"properties\": {\n        \"dtype\": \"category\",\n        \"num_unique_values\": 5,\n        \"samples\": [\n          \"pfizer news\",\n          \"pfizer vaccine news\",\n          \"pfizer stock news\"\n        ],\n        \"semantic_type\": \"\",\n        \"description\": \"\"\n      }\n    },\n    {\n      \"column\": \"link\",\n      \"properties\": {\n        \"dtype\": \"string\",\n        \"num_unique_values\": 923,\n        \"samples\": [\n          \"https://www.ema.europa.eu/en/news/increase-vaccine-manufacturing-capacity-supply-covid-19-vaccines-biontech-pfizer-moderna\",\n          \"https://www.nytimes.com/2020/12/16/health/Covid-Pfizer-vaccine-extra-doses.html\",\n          \"https://www.ft.com/content/159502e7-0c4b-4024-8b77-33dbcf01fea2\"\n        ],\n        \"semantic_type\": \"\",\n        \"description\": \"\"\n      }\n    },\n    {\n      \"column\": \"title\",\n      \"properties\": {\n        \"dtype\": \"string\",\n        \"num_unique_values\": 873,\n        \"samples\": [\n          \"Pfizer vaccine induces strong immunity in elderly with prior COVID-19\",\n          \"Covid: Pfizer and AstraZeneca approved as booster vaccines\",\n          \"PFE Stock Analysis: What is the price target for PFE in 2025?\"\n        ],\n        \"semantic_type\": \"\",\n        \"description\": \"\"\n      }\n    },\n    {\n      \"column\": \"description\",\n      \"properties\": {\n        \"dtype\": \"string\",\n        \"num_unique_values\": 1032,\n        \"samples\": [\n          \"James List, MD, Ph.D., will be charged with leading the company's pipeline of cardiovascular, metabolic, hematologic and obesity medicines from early discovery...\",\n          \"Trump's FDA drops Covid vaccine bombshell as Pfizer and Moderna admit heart damage risk ... The FDA is forcing Pfizer and Moderna to use expanded...\",\n          \"The FDA had given Pfizer and Moderna until May 17 to propose changes to the labels of their COVID-19 vaccines or challenge the agency's...\"\n        ],\n        \"semantic_type\": \"\",\n        \"description\": \"\"\n      }\n    },\n    {\n      \"column\": \"date\",\n      \"properties\": {\n        \"dtype\": \"category\",\n        \"num_unique_values\": 397,\n        \"samples\": [\n          \"2 Jul 2024\",\n          \"22 May 2023\",\n          \"1 Nov 2024\"\n        ],\n        \"semantic_type\": \"\",\n        \"description\": \"\"\n      }\n    },\n    {\n      \"column\": \"full_text\",\n      \"properties\": {\n        \"dtype\": \"string\",\n        \"num_unique_values\": 904,\n        \"samples\": [\n          \"With decades of highly detailed customization, extracting and migrating individual applications from Pfizer\\u2019s very tightly integrated SAP solutions to cloud services posed considerable challenges. The sheer size of Pfizer\\u2019s operations would require a very large number of x86 virtual servers in typical public cloud hyperscalers, which would impose a significant management and administration overhead on the digital teams.\\n\\n\\u201cFollowing a rigorous comparison of hyperscaler-based cloud operations on x86 servers and an on-premises IBM Power infrastructure, it was a clear decision to stay on premises,\\u201d says Scott. \\u201cBecause of the size limits of x86 servers, scaling up to handle our volume of work would require possibly five times as many servers when compared with IBM Power. Adding servers implies taking a scale-out approach, which in turn means clustering those servers, itself adding to administration overhead. For Pfizer, the advantage of the IBM Power platform is that it provides the ability to scale up, by increasing the capacity of a single virtual machine to run very large SAP workloads. The scale up approach delivered by IBM Power enables us to manage greater workload with the least complexity.\\u201d\\n\\nPfizer, therefore, chose to move from its existing IBM Power8\\u00ae infrastructure to IBM Power10, and migrated its existing applications and databases in an 18-month program. The company\\u2019s SAP solutions now run on just six IBM Power10 systems, configured as three servers in two geographically separated data centers to provide resilience and disaster recovery. Pfizer uses IBM PowerVM\\u00ae software to manage over 500 virtual servers that host production, development and test environments that support all of Pfizer\\u2019s commercial, finance, procurement and manufacturing operations.\\n\\nScott Groth comments, \\u201cOur Go-Live was truly amazing; the star was actually IBM Power 10 \\u2013 and I\\u2019m not just saying that. The production environment performed optimally, if not exceptionally. We achieved over 160,000 input/output operations per second, which allowed us to export our ECC in record time. We overachieved the data migration by over 11.5 hours, and our data migration forecast was 54 hours, and we realized this phase in 42.5 hours.\\u201d\\n\\nA total of around 50,000 users access a host of SAP applications running on the Power platform, including SAP S4/HANA, SAP Supply Chain Management, SAP governance, risk and compliance solutions, SAP Master Data Management, and SAP Fiori, with around 14 TB of HANA data available in SAP Business Warehouse on HANA on Power.\\n\\nTaking advantage of automation and virtualization\\n\\nWith large numbers of virtual servers to manage, Pfizer deploys Red Hat\\u00ae Ansible\\u00ae Automation to accelerate provisioning and configuration wherever possible, as Scott Groth explains: \\u201cWith Red Hat Ansible Automation, things that previously could take us a week now take us just a couple of hours. Being able to apply these techniques offers a significant management advantage when using the IBM Power platform.\\u201d\\n\\nPfizer takes maximum advantage of the virtualization capabilities of IBM Power10, deploying IBM\\u00ae Power\\u00ae Private Cloud with Dynamic Capacity, formerly Power Enterprise Pools. This technology enables the creation of a centralized compute, memory and storage resource using the capacity of all servers in the group. The model enables resources to be automatically applied and charged for on a minute-of-usage basis. From a single interface, each application can be assigned the optimal configuration \\u2013 including dynamic adjustment depending on demand \\u2013 to help ensure the maximum possible performance and efficiency, as well as providing a flexible, scalable way to manage mission-critical services.\\n\\n\\u201cWith IBM Power Private Cloud and Dynamic Capacity there is no need to micromanage resources, because there are no limits on what you can run on any server,\\u201d explains Scott Groth. \\u201cWhatever is in your pool spans across all your servers, even across data centers, which gives you the freedom to run workload wherever you want. IBM Power provides a very easy and efficient way to manage and optimize resources.\\u201d\\n\\nIn addition, the Pfizer corporation is very conscious of its strategic commitments to sustainability, and IBM Power10 solutions fit beautifully with those goals, as Scott Groth explains: \\u201cVirtualization enables Pfizer to run its extensive range of SAP and supporting solutions on a compact server footprint, with reduced carbon emissions that align well with the company\\u2019s commitments to sustainability. Compared with previous systems, Power10 servers can be up to twice as energy-efficient, while potentially delivering up to double the compute scalability.\\u201d\\n\\nPfizer aims to run on electricity generated from renewable resources by 2030, and reducing power consumption by consolidating to fewer servers will play a key role in achieving that ambition, by taking advantage of the ability to run multiple operating systems and workloads. As Scott Groth remarks, \\u201cYou name it\\u2014HANA, ABAP, Java, Oracle\\u2014they\\u2019re all running on a single physical Power10 server, and we can do this because the platform is so robust and runs anything we throw at it.\\u201d\\n\\nOptimizing migration and operations\\n\\nWith the migration of existing applications to Power10 complete, Pfizer has transformed all its SAP applications to SAP S/4HANA solutions. In this 18-month program, Pfizer engaged IBM Consulting\\u00ae in conjunction with Schneider-Neureither & Partner (SNP), a systems integrator and an IBM Business Partner. IBM Consulting works with SNP as a team, using SNP\\u2019s CrystalBridge software to deliver the IBM Rapid Move methodology, designed specifically to implement SAP S/4HANA transformation programs. Services from IBM Consulting included data migration, proof of concept, and in-depth business process analysis.\\n\\nSNP assisted Pfizer with data management, for example helping to reduce a very large SAP R/3 on AnyDB system down to a manageable SAP S/4HANA system. The source applications contain around 27 years of historic data from business units and companies that Pfizer divested years ago. Working with SNP, Pfizer deployed selective data migration, helping to optimize the future S/4HANA applications.\\n\\nThe program is already delivering direct, tangible benefits. For example, Pfizer has cut 9 ledgers, reducing from 15 to 4, a 73% reduction, by implementing SAP Universal Journal, reducing complexity and eliminating duplication. Similarly, the combination of increased system performance from Power10 and the migration from SAP ECC 6.0 to SAP S/4 HANA is delivering a 5% improvement in order-to-cash cycle time.\\n\\nWhile the Pfizer team noticed immediate performance improvements with IBM Power10, the benefits will become truly apparent over a longer timescale. For example, Pfizer plans to streamline company month-end closing processes, deploy SAP Extended Warehouse Management and SAP S/4HANA for advanced available-to-promise, and roll out SAP Fiori applications.\\n\\nScott Groth continues, \\u201cWe are always looking for better ways to do things, and our move from SAP ECC to SAP S/4HANA means that for new projects we forecast cost avoidance of 20%, because the capabilities are already there.\\u201d\\n\\nAware of the business risk when implementing a global project to 130 countries and 37 manufacturing plants that operate 24x7, Pfizer\\u2019s first stage was to complete mandatory items and then move forward with optional enhancements.\\n\\n\\u201cIt is very disruptive to impose downtime on manufacturing, which must switch to their business continuity plans. For that reason, we needed the most optimal, performant environment to minimize the impact, and a key capability of the Power10 platform is its ability get up and running as quickly as possible,\\u201d says Scott Groth.\\n\\nSenior Director of Digital Finance Solutions and SAP S/4HANA Program Manager, Raj Hase, adds, \\u201cAt every point we wanted to minimize risk, and our strategic partner IBM Consulting was instrumental in helping us plan for success. From the initial discovery and proof of concept work for the migration to Power10, IBM brought in-depth SAP S/4HANA expertise to the table and helped us understand what it takes to get to the objective. We relied heavily on IBM Consulting to work closely with our business teams to plan out the critical actions and help us with mock cutovers and the migration itself.\\u201d\\n\\nScott Groth adds, \\u201cWe understand that no platform or application is perfect, and that there will be challenges and obstacles that could derail a successful implementation. The partnership with Pfizer and IBM Consulting provided the highest value in this entire story.\\u201d\",\n          \"Pfizer (PFE -0.08%) became a stock market star in early pandemic days as it brought the first coronavirus vaccine to market. The company generated billions of dollars in revenue thanks to its coronavirus vaccine and treatment, even reaching a record of more than $100 billion in total company revenue in 2022.\\n\\nBut in recent times, Pfizer's seen its earnings and share price decline along with demand for its coronavirus products. On top of this, some of Pfizer's blockbuster products are losing exclusivity later this decade, and this will weigh on revenue. Share performance has reflected this, with the stock declining more than 50% over the past three years.\\n\\nThe company hasn't been sitting around watching this happen, though. Instead, it has focused on reviving growth and keeping the new momentum going over the long term. Pfizer even put $43 billion behind one particular program to strengthen its expertise in this key treatment area and supercharge growth. My prediction is that this bet will help Pfizer stock take off in 2025. Let's take a closer look.\\n\\nPfizer's time in the spotlight\\n\\nFirst, let's consider the Pfizer story so far. The company has been around for 175 years, and through most of its history, Pfizer sold a broad range of drugs for various indications. But the pharma player truly stepped into the spotlight early in the pandemic with the development of its coronavirus products. These products, as mentioned, led to significant growth for the company -- followed by decline when demand for the products waned.\\n\\nAt the same time, the expiration of key patents is coming up for some major Pfizer drugs, including blood thinner Eliquis and breast cancer drug Ibrance. The company has even said that it expects $17 billion in lost revenue from 2025 through 2030 due to losses of exclusivity.\\n\\nTo compensate for this and for the decline in coronavirus product sales, Pfizer began a record product launch process -- bringing to market 19 new products or indications in just 18 months. The company also focused on acquisitions to grow, and this is where the $43 billion bet comes in. Last year, Pfizer paid this amount to buy Seagen, an oncology specialist focused on antibody-drug conjugates (ADCs). ADCs work by using the targeting power of monoclonal antibodies, with the antibody delivering powerful drugs directly to cancer cells.\\n\\nSeagen drugs are offering Pfizer growth\\n\\nSeagen had drugs on the market, and these drugs are already delivering growth for Pfizer. Adcetris for Hodgkin lymphoma, Padcev for bladder cancer, Tukysa for breast cancer, and Tivdak for cervical cancer have each seen revenue climb in the recent quarter year over year. Padcev's revenue even doubled, reaching more than $400 million. The Seagen acquisition also brought Pfizer a strong ADC pipeline, with several candidates already in phase 3 trials. Pfizer says it aims to have eight or more oncology blockbusters on the market as of 2030 -- and the pipeline we see today could make that a reality.\\n\\nSo, Pfizer's bet looks like it will pay off in the long run -- but why am I optimistic about the Seagen purchase driving gains as early as 2025? First, Pfizer looks particularly cheap today, trading at about 8x forward earnings estimates, considering its long-term prospects in oncology and overall. Second, the Seagen products, as mentioned above, are already offering the company significant growth. In the recent quarter, Pfizer's oncology portfolio -- including Seagen products and Pfizer's in-house developed products -- delivered revenue growth of more than 30%. The company became the third-largest U.S. oncology company by sales in the first half of the year.\\n\\nPfizer has set its biggest goals for 2030, but the growth to get there should happen in the months and years to come. As these revenue gains and new product launches happen, the stock could advance. That's why my prediction is that this big oncology bet will help Pfizer stock take off in 2025 -- and that means now is a great time to add this pharmaceutical player to your portfolio.\",\n          \"American pharmaceutical company Pfizer has rebranded with a logo inspired by DNA\\u2019s double helix structure.\\n\\nAs well as a new logo, the rebrand comprises an identity overhaul complete with new typeface and dual-tone colour palette. The identity work has been carried out by New York, US-based studio Team. Brand consultancy Landor & Fitch helped to develop the rebrand strategy, Pfizer tells Design Week.\\n\\nPfizer was established by Charles Pfizer and his cousin Charles Erhart (both of German descent) in New York in 1849. Originally set up as a chemicals company in the Williamsburg district of Brooklyn, it developed over the next century by supplying penicillin during World War II.\\n\\nMost recently, Pfizer partnered with German biotech company BioNTech to develop a Covid vaccine. It announced in November 2020 that the vaccine had a nearly 95% efficacy rate. The Pfizer vaccine began rolling out across the UK in December.\\n\\nThe rebrand has been prompted by a \\u201cnew era\\u201d for the company, according to Pfizer CEO Albert Bourla. \\u201cPfizer is no longer in the business of just treating diseases \\u2013 we\\u2019re curing and preventing them,\\u201d he adds.\\n\\nThe new focus on its science and research capabilities inspires the most prominent part of Pfizer\\u2019s rebrand: its DNA-themed logo.\\n\\nThe Pfizer wordmark now sits alongside a pair of blue-toned interlocking forms which represent the double helix. This aims to represent the \\u201cshift from commerce to science\\u201d, Pfizer says. \\u201cWe\\u2019ve unlocked the pill form to reveal the core of what we do: a double helix, spiralling upward.\\u201d\\n\\nThe addition of the helix form is one of the most prominent logo changes in the company\\u2019s 171-year history. \\u201cPfizer has become much more than a pharmaceutical company,\\u201d it adds.\\n\\nElsewhere, \\u201cbold imagery\\u201d aims to show how the company is prompting \\u201cworld-shaping science\\u201d, Pfizer says. These comprise abstract three-dimensional shapes, again inspired by the double helix structure.\\n\\nThere\\u2019s also an emphasis on human-focused photography depicting \\u201creal people getting the help they need\\u201d.\\n\\nPfizer has retained the blue colour palette though says that it\\u2019s been \\u201cevolved\\u201d to a \\u201cvibrant, two-tone palette\\u201d. The primary shades are 286 C and Process Cyan, though there\\u2019s also a wider palette available for branding.\\n\\n\\u201cIn an industry awash in blue, we\\u2019re doubling down,\\u201d Pfizer says. \\u201cA choice that champions our history as a leader for the pioneers who have followed.\\u201d\\n\\nAccording to design studio Team, the two-tone palette shows \\u201cPfizer\\u2019s commitment to both science and patients\\u201d.\\n\\nNoto Sans is the updated typeface, picked for its \\u201cclean, open\\u201d characteristics. Pfizer says the  pared-back typeface is \\u201cphilosophically and aesthetically aligned\\u201d with its updated vision. The typeface was developed by Google as a way \\u201cto internationalize the internet\\u201d, according to the pharmaceutical company.\\n\\nThe new identity has rolled out across a variety of applications. The imagery can be seen on a range of communication material such as online campaigns as well as on professional documents like HR guides.\\n\\nThe logo\\u2019s new helix feature is also widely in use throughout material, including on a lab coat.\\n\\nWhat do you think of Pfizer\\u2019s rebrand? Let us know in the comments below.\\n\\nI have studied logos since the 70\\u2019s. I was interested in credits. Landon/Fitch was no surprise. It may be my favorite this decade. The word perfect actually came to mind.\\n\\nGREAT LOOKING LOGO\\u2013ESPECIALLY ON THE UNIFORM; DYNAMIC AND PLEASING TO LOOK AT\\n\\nWouldn\\u2019t you just love to know how much this redesign cost? I\\u2019m not sure it\\u2019s very future proof and if I\\u2019m honest, it\\u2019s not very exciting. The helix icon feels very clunky and I\\u2019m struggling to understand why the two blues represents \\u201ccommitment to both science and patients\\u201d? Oh well, that\\u2019s subjectivity at its best I guess.\\n\\nNoto is really the new ubiquitous font\\u2026 I\\u2019m bored of seeing it already. New everything else feels fresh though.\\n\\nThat\\u2019s an incredible admission from Pfizer that the new rebrand signals a shift from \\u201ccommerce to science\\u201d. Surely, it would be more reassuring if the company behind the fast-tracked experimental Covid vaccine was always driven by health or science rather than profit?\\n\\nYour email address will not be published. Required fields are marked *\\n\\nSave my name, email, and website in this browser for the next time I comment.\\n\\nThis site uses Akismet to reduce spam. Learn how your comment data is processed.\\n\\n\\u00a9 2025 Interconnect IT Ltd. All rights reserved.\\n\\nDesigned and built by Standfirst.\\n\\nJoin for \\u00a34/month or \\u00a340/year\\n\\nThis website uses cookies to improve your experience. By continuing to use this website, we assume you agree to our Cookies Policy.\"\n        ],\n        \"semantic_type\": \"\",\n        \"description\": \"\"\n      }\n    }\n  ]\n}"
            }
          },
          "metadata": {},
          "execution_count": 7
        }
      ]
    },
    {
      "cell_type": "code",
      "source": [
        "df_pfizer_articles['title'] = df_pfizer_articles['title'].apply(clean_text)\n",
        "df_pfizer_articles['description'] = df_pfizer_articles['description'].apply(clean_text)\n",
        "df_pfizer_articles['full_text'] = df_pfizer_articles['full_text'].apply(clean_text)"
      ],
      "metadata": {
        "id": "G1DURwEj8MUI",
        "colab": {
          "base_uri": "https://localhost:8080/",
          "height": 375
        },
        "outputId": "32f6bcbe-fb99-4909-d556-224f34332307"
      },
      "execution_count": 8,
      "outputs": [
        {
          "output_type": "error",
          "ename": "NameError",
          "evalue": "name 'BeautifulSoup' is not defined",
          "traceback": [
            "\u001b[0;31m---------------------------------------------------------------------------\u001b[0m",
            "\u001b[0;31mNameError\u001b[0m                                 Traceback (most recent call last)",
            "\u001b[0;32m/tmp/ipython-input-8-3415887214.py\u001b[0m in \u001b[0;36m<cell line: 0>\u001b[0;34m()\u001b[0m\n\u001b[0;32m----> 1\u001b[0;31m \u001b[0mdf_pfizer_articles\u001b[0m\u001b[0;34m[\u001b[0m\u001b[0;34m'title'\u001b[0m\u001b[0;34m]\u001b[0m \u001b[0;34m=\u001b[0m \u001b[0mdf_pfizer_articles\u001b[0m\u001b[0;34m[\u001b[0m\u001b[0;34m'title'\u001b[0m\u001b[0;34m]\u001b[0m\u001b[0;34m.\u001b[0m\u001b[0mapply\u001b[0m\u001b[0;34m(\u001b[0m\u001b[0mclean_text\u001b[0m\u001b[0;34m)\u001b[0m\u001b[0;34m\u001b[0m\u001b[0;34m\u001b[0m\u001b[0m\n\u001b[0m\u001b[1;32m      2\u001b[0m \u001b[0mdf_pfizer_articles\u001b[0m\u001b[0;34m[\u001b[0m\u001b[0;34m'description'\u001b[0m\u001b[0;34m]\u001b[0m \u001b[0;34m=\u001b[0m \u001b[0mdf_pfizer_articles\u001b[0m\u001b[0;34m[\u001b[0m\u001b[0;34m'description'\u001b[0m\u001b[0;34m]\u001b[0m\u001b[0;34m.\u001b[0m\u001b[0mapply\u001b[0m\u001b[0;34m(\u001b[0m\u001b[0mclean_text\u001b[0m\u001b[0;34m)\u001b[0m\u001b[0;34m\u001b[0m\u001b[0;34m\u001b[0m\u001b[0m\n\u001b[1;32m      3\u001b[0m \u001b[0mdf_pfizer_articles\u001b[0m\u001b[0;34m[\u001b[0m\u001b[0;34m'full_text'\u001b[0m\u001b[0;34m]\u001b[0m \u001b[0;34m=\u001b[0m \u001b[0mdf_pfizer_articles\u001b[0m\u001b[0;34m[\u001b[0m\u001b[0;34m'full_text'\u001b[0m\u001b[0;34m]\u001b[0m\u001b[0;34m.\u001b[0m\u001b[0mapply\u001b[0m\u001b[0;34m(\u001b[0m\u001b[0mclean_text\u001b[0m\u001b[0;34m)\u001b[0m\u001b[0;34m\u001b[0m\u001b[0;34m\u001b[0m\u001b[0m\n",
            "\u001b[0;32m/usr/local/lib/python3.11/dist-packages/pandas/core/series.py\u001b[0m in \u001b[0;36mapply\u001b[0;34m(self, func, convert_dtype, args, by_row, **kwargs)\u001b[0m\n\u001b[1;32m   4922\u001b[0m             \u001b[0margs\u001b[0m\u001b[0;34m=\u001b[0m\u001b[0margs\u001b[0m\u001b[0;34m,\u001b[0m\u001b[0;34m\u001b[0m\u001b[0;34m\u001b[0m\u001b[0m\n\u001b[1;32m   4923\u001b[0m             \u001b[0mkwargs\u001b[0m\u001b[0;34m=\u001b[0m\u001b[0mkwargs\u001b[0m\u001b[0;34m,\u001b[0m\u001b[0;34m\u001b[0m\u001b[0;34m\u001b[0m\u001b[0m\n\u001b[0;32m-> 4924\u001b[0;31m         ).apply()\n\u001b[0m\u001b[1;32m   4925\u001b[0m \u001b[0;34m\u001b[0m\u001b[0m\n\u001b[1;32m   4926\u001b[0m     def _reindex_indexer(\n",
            "\u001b[0;32m/usr/local/lib/python3.11/dist-packages/pandas/core/apply.py\u001b[0m in \u001b[0;36mapply\u001b[0;34m(self)\u001b[0m\n\u001b[1;32m   1425\u001b[0m \u001b[0;34m\u001b[0m\u001b[0m\n\u001b[1;32m   1426\u001b[0m         \u001b[0;31m# self.func is Callable\u001b[0m\u001b[0;34m\u001b[0m\u001b[0;34m\u001b[0m\u001b[0m\n\u001b[0;32m-> 1427\u001b[0;31m         \u001b[0;32mreturn\u001b[0m \u001b[0mself\u001b[0m\u001b[0;34m.\u001b[0m\u001b[0mapply_standard\u001b[0m\u001b[0;34m(\u001b[0m\u001b[0;34m)\u001b[0m\u001b[0;34m\u001b[0m\u001b[0;34m\u001b[0m\u001b[0m\n\u001b[0m\u001b[1;32m   1428\u001b[0m \u001b[0;34m\u001b[0m\u001b[0m\n\u001b[1;32m   1429\u001b[0m     \u001b[0;32mdef\u001b[0m \u001b[0magg\u001b[0m\u001b[0;34m(\u001b[0m\u001b[0mself\u001b[0m\u001b[0;34m)\u001b[0m\u001b[0;34m:\u001b[0m\u001b[0;34m\u001b[0m\u001b[0;34m\u001b[0m\u001b[0m\n",
            "\u001b[0;32m/usr/local/lib/python3.11/dist-packages/pandas/core/apply.py\u001b[0m in \u001b[0;36mapply_standard\u001b[0;34m(self)\u001b[0m\n\u001b[1;32m   1505\u001b[0m         \u001b[0;31m#  Categorical (GH51645).\u001b[0m\u001b[0;34m\u001b[0m\u001b[0;34m\u001b[0m\u001b[0m\n\u001b[1;32m   1506\u001b[0m         \u001b[0maction\u001b[0m \u001b[0;34m=\u001b[0m \u001b[0;34m\"ignore\"\u001b[0m \u001b[0;32mif\u001b[0m \u001b[0misinstance\u001b[0m\u001b[0;34m(\u001b[0m\u001b[0mobj\u001b[0m\u001b[0;34m.\u001b[0m\u001b[0mdtype\u001b[0m\u001b[0;34m,\u001b[0m \u001b[0mCategoricalDtype\u001b[0m\u001b[0;34m)\u001b[0m \u001b[0;32melse\u001b[0m \u001b[0;32mNone\u001b[0m\u001b[0;34m\u001b[0m\u001b[0;34m\u001b[0m\u001b[0m\n\u001b[0;32m-> 1507\u001b[0;31m         mapped = obj._map_values(\n\u001b[0m\u001b[1;32m   1508\u001b[0m             \u001b[0mmapper\u001b[0m\u001b[0;34m=\u001b[0m\u001b[0mcurried\u001b[0m\u001b[0;34m,\u001b[0m \u001b[0mna_action\u001b[0m\u001b[0;34m=\u001b[0m\u001b[0maction\u001b[0m\u001b[0;34m,\u001b[0m \u001b[0mconvert\u001b[0m\u001b[0;34m=\u001b[0m\u001b[0mself\u001b[0m\u001b[0;34m.\u001b[0m\u001b[0mconvert_dtype\u001b[0m\u001b[0;34m\u001b[0m\u001b[0;34m\u001b[0m\u001b[0m\n\u001b[1;32m   1509\u001b[0m         )\n",
            "\u001b[0;32m/usr/local/lib/python3.11/dist-packages/pandas/core/base.py\u001b[0m in \u001b[0;36m_map_values\u001b[0;34m(self, mapper, na_action, convert)\u001b[0m\n\u001b[1;32m    919\u001b[0m             \u001b[0;32mreturn\u001b[0m \u001b[0marr\u001b[0m\u001b[0;34m.\u001b[0m\u001b[0mmap\u001b[0m\u001b[0;34m(\u001b[0m\u001b[0mmapper\u001b[0m\u001b[0;34m,\u001b[0m \u001b[0mna_action\u001b[0m\u001b[0;34m=\u001b[0m\u001b[0mna_action\u001b[0m\u001b[0;34m)\u001b[0m\u001b[0;34m\u001b[0m\u001b[0;34m\u001b[0m\u001b[0m\n\u001b[1;32m    920\u001b[0m \u001b[0;34m\u001b[0m\u001b[0m\n\u001b[0;32m--> 921\u001b[0;31m         \u001b[0;32mreturn\u001b[0m \u001b[0malgorithms\u001b[0m\u001b[0;34m.\u001b[0m\u001b[0mmap_array\u001b[0m\u001b[0;34m(\u001b[0m\u001b[0marr\u001b[0m\u001b[0;34m,\u001b[0m \u001b[0mmapper\u001b[0m\u001b[0;34m,\u001b[0m \u001b[0mna_action\u001b[0m\u001b[0;34m=\u001b[0m\u001b[0mna_action\u001b[0m\u001b[0;34m,\u001b[0m \u001b[0mconvert\u001b[0m\u001b[0;34m=\u001b[0m\u001b[0mconvert\u001b[0m\u001b[0;34m)\u001b[0m\u001b[0;34m\u001b[0m\u001b[0;34m\u001b[0m\u001b[0m\n\u001b[0m\u001b[1;32m    922\u001b[0m \u001b[0;34m\u001b[0m\u001b[0m\n\u001b[1;32m    923\u001b[0m     \u001b[0;34m@\u001b[0m\u001b[0mfinal\u001b[0m\u001b[0;34m\u001b[0m\u001b[0;34m\u001b[0m\u001b[0m\n",
            "\u001b[0;32m/usr/local/lib/python3.11/dist-packages/pandas/core/algorithms.py\u001b[0m in \u001b[0;36mmap_array\u001b[0;34m(arr, mapper, na_action, convert)\u001b[0m\n\u001b[1;32m   1741\u001b[0m     \u001b[0mvalues\u001b[0m \u001b[0;34m=\u001b[0m \u001b[0marr\u001b[0m\u001b[0;34m.\u001b[0m\u001b[0mastype\u001b[0m\u001b[0;34m(\u001b[0m\u001b[0mobject\u001b[0m\u001b[0;34m,\u001b[0m \u001b[0mcopy\u001b[0m\u001b[0;34m=\u001b[0m\u001b[0;32mFalse\u001b[0m\u001b[0;34m)\u001b[0m\u001b[0;34m\u001b[0m\u001b[0;34m\u001b[0m\u001b[0m\n\u001b[1;32m   1742\u001b[0m     \u001b[0;32mif\u001b[0m \u001b[0mna_action\u001b[0m \u001b[0;32mis\u001b[0m \u001b[0;32mNone\u001b[0m\u001b[0;34m:\u001b[0m\u001b[0;34m\u001b[0m\u001b[0;34m\u001b[0m\u001b[0m\n\u001b[0;32m-> 1743\u001b[0;31m         \u001b[0;32mreturn\u001b[0m \u001b[0mlib\u001b[0m\u001b[0;34m.\u001b[0m\u001b[0mmap_infer\u001b[0m\u001b[0;34m(\u001b[0m\u001b[0mvalues\u001b[0m\u001b[0;34m,\u001b[0m \u001b[0mmapper\u001b[0m\u001b[0;34m,\u001b[0m \u001b[0mconvert\u001b[0m\u001b[0;34m=\u001b[0m\u001b[0mconvert\u001b[0m\u001b[0;34m)\u001b[0m\u001b[0;34m\u001b[0m\u001b[0;34m\u001b[0m\u001b[0m\n\u001b[0m\u001b[1;32m   1744\u001b[0m     \u001b[0;32melse\u001b[0m\u001b[0;34m:\u001b[0m\u001b[0;34m\u001b[0m\u001b[0;34m\u001b[0m\u001b[0m\n\u001b[1;32m   1745\u001b[0m         return lib.map_infer_mask(\n",
            "\u001b[0;32mlib.pyx\u001b[0m in \u001b[0;36mpandas._libs.lib.map_infer\u001b[0;34m()\u001b[0m\n",
            "\u001b[0;32m/tmp/ipython-input-3-332562573.py\u001b[0m in \u001b[0;36mclean_text\u001b[0;34m(text)\u001b[0m\n\u001b[1;32m      1\u001b[0m \u001b[0;32mdef\u001b[0m \u001b[0mclean_text\u001b[0m\u001b[0;34m(\u001b[0m\u001b[0mtext\u001b[0m\u001b[0;34m)\u001b[0m\u001b[0;34m:\u001b[0m\u001b[0;34m\u001b[0m\u001b[0;34m\u001b[0m\u001b[0m\n\u001b[1;32m      2\u001b[0m     \u001b[0;31m# Remove HTML\u001b[0m\u001b[0;34m\u001b[0m\u001b[0;34m\u001b[0m\u001b[0m\n\u001b[0;32m----> 3\u001b[0;31m     \u001b[0msoup\u001b[0m \u001b[0;34m=\u001b[0m \u001b[0mBeautifulSoup\u001b[0m\u001b[0;34m(\u001b[0m\u001b[0mtext\u001b[0m\u001b[0;34m,\u001b[0m \u001b[0;34m\"html.parser\"\u001b[0m\u001b[0;34m)\u001b[0m\u001b[0;34m\u001b[0m\u001b[0;34m\u001b[0m\u001b[0m\n\u001b[0m\u001b[1;32m      4\u001b[0m     \u001b[0mtext_only\u001b[0m \u001b[0;34m=\u001b[0m \u001b[0msoup\u001b[0m\u001b[0;34m.\u001b[0m\u001b[0mget_text\u001b[0m\u001b[0;34m(\u001b[0m\u001b[0;34m)\u001b[0m\u001b[0;34m\u001b[0m\u001b[0;34m\u001b[0m\u001b[0m\n\u001b[1;32m      5\u001b[0m \u001b[0;34m\u001b[0m\u001b[0m\n",
            "\u001b[0;31mNameError\u001b[0m: name 'BeautifulSoup' is not defined"
          ]
        }
      ]
    },
    {
      "cell_type": "code",
      "source": [
        "df_pfizer_articles['source'] = df_pfizer_articles['link'].str.extract(r'https?://(?:www\\.)?([a-zA-Z0-9\\-]+)\\.')\n",
        "\n"
      ],
      "metadata": {
        "id": "ymvuRCDe92DZ"
      },
      "execution_count": null,
      "outputs": []
    },
    {
      "cell_type": "code",
      "source": [
        "df_pfizer_articles.info()"
      ],
      "metadata": {
        "id": "eAWZga2g9cHR"
      },
      "execution_count": null,
      "outputs": []
    },
    {
      "cell_type": "code",
      "source": [
        "df_pfizer_articles[df_pfizer_articles.duplicated()]"
      ],
      "metadata": {
        "id": "LYUwVGAs-ZPi"
      },
      "execution_count": null,
      "outputs": []
    },
    {
      "cell_type": "code",
      "source": [
        "df_pfizer_articles = df_pfizer_articles.drop_duplicates()"
      ],
      "metadata": {
        "id": "osgpmA-D_G5c"
      },
      "execution_count": null,
      "outputs": []
    },
    {
      "cell_type": "code",
      "source": [
        "df_pfizer_articles.info()"
      ],
      "metadata": {
        "id": "uco5fll-_PB5"
      },
      "execution_count": null,
      "outputs": []
    },
    {
      "cell_type": "code",
      "source": [
        "df_pfizer_articles.dropna(subset=[\"date\"], inplace=True)"
      ],
      "metadata": {
        "id": "QtlrBIHC_SJS"
      },
      "execution_count": null,
      "outputs": []
    },
    {
      "cell_type": "code",
      "source": [
        "df_pfizer_articles.info()"
      ],
      "metadata": {
        "id": "rg74L9di_hWW"
      },
      "execution_count": null,
      "outputs": []
    },
    {
      "cell_type": "markdown",
      "source": [
        "## 1.2 **Clean up dates**"
      ],
      "metadata": {
        "id": "fGfkukXAJEj8"
      }
    },
    {
      "cell_type": "code",
      "source": [
        "def standardize_date(date_str, current_time=None):\n",
        "    \"\"\"\n",
        "    Standardizes a date string into a datetime object.\n",
        "    Prioritizes pandas.to_datetime for direct date parsing, then handles 'ago' formats.\n",
        "\n",
        "    Args:\n",
        "        date_str (str): The date string to standardize.\n",
        "        current_time (datetime, optional): The reference time for 'ago' calculations.\n",
        "                                         Defaults to the current system time if None.\n",
        "\n",
        "    Returns:\n",
        "        datetime: The standardized datetime object, or pd.NaT if parsing fails.\n",
        "    \"\"\"\n",
        "    if pd.isna(date_str): # Handle NaN or None inputs\n",
        "        return pd.NaT\n",
        "\n",
        "    # Ensure current_time is set for 'ago' calculations\n",
        "    if current_time is None:\n",
        "        current_time = datetime.now()\n",
        "\n",
        "    # Crucial: Keep original case for to_datetime attempt\n",
        "    original_date_str = str(date_str).strip()\n",
        "\n",
        "    # --- Attempt 1: Use pandas.to_datetime for direct date parsing (most robust for standard formats) ---\n",
        "    try:\n",
        "        # Infer format, coerce errors to NaT. dayfirst=True is good for UK formats.\n",
        "        parsed_dt = pd.to_datetime(original_date_str, errors='coerce', dayfirst=True)\n",
        "        if pd.notna(parsed_dt):\n",
        "            return parsed_dt\n",
        "    except Exception:\n",
        "        # Fallback if pd.to_datetime itself raises an unexpected error\n",
        "        pass\n",
        "\n",
        "    # --- Attempt 2: Handle \"X ago\" formats (requires string manipulation) ---\n",
        "    # Convert to lowercase for 'ago' parsing\n",
        "    lower_date_str = original_date_str.lower()\n",
        "\n",
        "    if \"ago\" in lower_date_str:\n",
        "        num_match = re.search(r'\\d+', lower_date_str)\n",
        "        num = int(num_match.group()) if num_match else 0\n",
        "\n",
        "        if \"minute\" in lower_date_str:\n",
        "            return current_time - timedelta(minutes=num)\n",
        "        elif \"hour\" in lower_date_str:\n",
        "            return current_time - timedelta(hours=num)\n",
        "        elif \"day\" in lower_date_str:\n",
        "            return current_time - timedelta(days=num)\n",
        "        elif \"week\" in lower_date_str:\n",
        "            return current_time - timedelta(weeks=num)\n",
        "        elif \"month\" in lower_date_str:\n",
        "            return current_time - timedelta(days=num * 30) # Approximate\n",
        "        elif \"year\" in lower_date_str:\n",
        "            return current_time - timedelta(days=num * 365) # Approximate\n",
        "        else:\n",
        "            return pd.NaT # \"ago\" but unknown unit\n",
        "\n",
        "    # --- Attempt 3: Handle cases where the year might be missing (e.g., \"14 Apr\") ---\n",
        "    # This comes after pd.to_datetime because pd.to_datetime might not infer this without a year\n",
        "    # Re-apply lowercasing for consistent month abbreviation matching\n",
        "    match = re.match(r'(\\d+)\\s+([a-zA-Z]+)$', lower_date_str)\n",
        "    if match:\n",
        "        day = int(match.group(1))\n",
        "        month_str = match.group(2)\n",
        "        try:\n",
        "            # Try parsing with current year (e.g., \"10 Mar\" -> \"10 Mar 2025\")\n",
        "            # Using pd.to_datetime here again for robustness\n",
        "            temp_date_str_with_year = f\"{day} {month_str} {current_time.year}\"\n",
        "            return pd.to_datetime(temp_date_str_with_year, errors='coerce', dayfirst=True)\n",
        "        except Exception:\n",
        "            return pd.NaT\n",
        "\n",
        "    # If none of the above formats match, return NaT\n",
        "    return pd.NaT\n",
        "\n",
        "# --- Helper function for 'Today', 'Yesterday' etc. ---\n",
        "def handle_relative_terms(date_str, current_time):\n",
        "    # Ensure current_time is a datetime object\n",
        "    if not isinstance(current_time, datetime):\n",
        "        raise TypeError(\"current_time must be a datetime object.\")\n",
        "\n",
        "    date_str_lower = str(date_str).strip().lower()\n",
        "    if date_str_lower == 'today':\n",
        "        return current_time.replace(hour=0, minute=0, second=0, microsecond=0) # Start of today\n",
        "    elif date_str_lower == 'yesterday':\n",
        "        return (current_time - timedelta(days=1)).replace(hour=0, minute=0, second=0, microsecond=0)\n",
        "    # Add other relative terms here if needed (e.g., 'tomorrow', 'next week')\n",
        "    return date_str # Return original string if not a relative term handled here\n"
      ],
      "metadata": {
        "id": "ONAUgBHJ9RhS"
      },
      "execution_count": null,
      "outputs": []
    },
    {
      "cell_type": "code",
      "source": [
        "reference_time = datetime(2025, 6, 25, 12, 57, 59)"
      ],
      "metadata": {
        "id": "2njRiy7j9zuC"
      },
      "execution_count": null,
      "outputs": []
    },
    {
      "cell_type": "code",
      "source": [
        "df_pfizer_articles['processed_date'] = df_pfizer_articles['date'].apply(lambda x: handle_relative_terms(x, reference_time))"
      ],
      "metadata": {
        "id": "t1AKGHNXBZXA"
      },
      "execution_count": null,
      "outputs": []
    },
    {
      "cell_type": "code",
      "source": [
        "df_pfizer_articles['standardized_date'] = df_pfizer_articles['processed_date'].apply(lambda x: standardize_date(x, current_time=reference_time))\n"
      ],
      "metadata": {
        "id": "V0cbTutx9jng"
      },
      "execution_count": null,
      "outputs": []
    },
    {
      "cell_type": "code",
      "source": [
        "df_pfizer_articles.info()"
      ],
      "metadata": {
        "id": "6gKOm9FYAtio"
      },
      "execution_count": null,
      "outputs": []
    },
    {
      "cell_type": "code",
      "source": [
        "df_pfizer_articles.head()"
      ],
      "metadata": {
        "id": "ebYY7RShBvkx"
      },
      "execution_count": null,
      "outputs": []
    },
    {
      "cell_type": "code",
      "source": [
        "df_pfizer_articles['date'] = df_pfizer_articles['standardized_date']"
      ],
      "metadata": {
        "id": "k7F2bvvMJsmg"
      },
      "execution_count": null,
      "outputs": []
    },
    {
      "cell_type": "code",
      "source": [
        "df_pfizer_articles = df_pfizer_articles.drop(columns={'processed_date', 'standardized_date'})"
      ],
      "metadata": {
        "id": "Mq9bj_e9J4pI"
      },
      "execution_count": null,
      "outputs": []
    },
    {
      "cell_type": "code",
      "source": [
        "df_pfizer_articles.info()"
      ],
      "metadata": {
        "id": "WI7NS1pACEYW"
      },
      "execution_count": null,
      "outputs": []
    },
    {
      "cell_type": "markdown",
      "source": [
        "## 1.3 **Applying Vader**"
      ],
      "metadata": {
        "id": "fKvua3isO0as"
      }
    },
    {
      "cell_type": "markdown",
      "source": [
        "In this step we will add our sentiment output values from Vader to our dataset"
      ],
      "metadata": {
        "id": "4JUvXp8PSpoB"
      }
    },
    {
      "cell_type": "code",
      "source": [
        "# Create a snetiment analyzer\n",
        "analyzer = SentimentIntensityAnalyzer()"
      ],
      "metadata": {
        "id": "8mgriCEPCJtq"
      },
      "execution_count": null,
      "outputs": []
    },
    {
      "cell_type": "code",
      "source": [
        "# Function to return sentiment scores based on text provided.\n",
        "def get_vader_scores(text):\n",
        "    if pd.isna(text) or not isinstance(text, str):\n",
        "        return {'neg': 0.0, 'neu': 0.0, 'pos': 0.0, 'compound': 0.0} # Return default scores for non-string/NaN\n",
        "    return analyzer.polarity_scores(text)\n"
      ],
      "metadata": {
        "id": "NpiEPwv_CoNI"
      },
      "execution_count": null,
      "outputs": []
    },
    {
      "cell_type": "code",
      "source": [
        "# Function to generate scores for large text ( our full text data), in this function we split initial text in to chuncks of 250 and generate compound score\n",
        "def apply_vader_to_chunks(df, text_column, chunk_size=250):\n",
        "    def get_chunks(text, size):\n",
        "        words = text.split()\n",
        "        return [' '.join(words[i:i+size]) for i in range(0, len(words), size)]\n",
        "\n",
        "    def get_compound_score(text):\n",
        "        if pd.isna(text) or not isinstance(text, str):\n",
        "            return None\n",
        "        chunks = get_chunks(text, chunk_size)\n",
        "        scores = [analyzer.polarity_scores(chunk)['compound'] for chunk in chunks]\n",
        "        return sum(scores) / len(scores) if scores else 0.0\n",
        "\n",
        "    df['compound_score'] = df[text_column].apply(get_compound_score)\n",
        "    return df\n",
        "\n"
      ],
      "metadata": {
        "id": "X38BeBQBVhlB"
      },
      "execution_count": null,
      "outputs": []
    },
    {
      "cell_type": "code",
      "source": [
        "# This function will label our data based on the vader score output.\n",
        "def get_sentiment_label(compound_score, threshold=0.05):\n",
        "    if compound_score >= threshold:\n",
        "        return 'Positive'\n",
        "    elif compound_score <= -threshold:\n",
        "        return 'Negative'\n",
        "    else:\n",
        "        return 'Neutral'"
      ],
      "metadata": {
        "id": "dJw_GQa0k-LV"
      },
      "execution_count": null,
      "outputs": []
    },
    {
      "cell_type": "code",
      "source": [
        "# Apply vader to full text column\n",
        "df_pfizer_articles = apply_vader_to_chunks(df_pfizer_articles, 'full_text')"
      ],
      "metadata": {
        "id": "Hu14RZfIWB9q"
      },
      "execution_count": null,
      "outputs": []
    },
    {
      "cell_type": "code",
      "source": [
        "# Apply vader to title\n",
        "title_sentiment_scores = df_pfizer_articles['title'].apply(get_vader_scores)\n",
        "df_pfizer_articles = pd.concat([\n",
        "    df_pfizer_articles,\n",
        "    pd.DataFrame(title_sentiment_scores.tolist(), index=df_pfizer_articles.index).add_prefix('title_vader_')\n",
        "], axis=1)\n"
      ],
      "metadata": {
        "id": "pzvI55QACq51"
      },
      "execution_count": null,
      "outputs": []
    },
    {
      "cell_type": "code",
      "source": [
        "# Apply vader to descruotuib\n",
        "description_sentiment_scores = df_pfizer_articles['description'].apply(get_vader_scores)\n",
        "df_pfizer_articles = pd.concat([\n",
        "    df_pfizer_articles,\n",
        "    pd.DataFrame(description_sentiment_scores.tolist(), index=df_pfizer_articles.index).add_prefix('desc_vader_')\n",
        "], axis=1)"
      ],
      "metadata": {
        "id": "E-8yHNpGCteT"
      },
      "execution_count": null,
      "outputs": []
    },
    {
      "cell_type": "code",
      "source": [
        "# Create label columns to assign Positive, Negative or Neutral to our data values\n",
        "df_pfizer_articles['title_sentiment_label'] = df_pfizer_articles['title_vader_compound'].apply(get_sentiment_label)\n",
        "df_pfizer_articles['desc_sentiment_label'] = df_pfizer_articles['desc_vader_compound'].apply(get_sentiment_label)\n",
        "df_pfizer_articles['full_text_sentiment_label'] = df_pfizer_articles['compound_score'].apply(get_sentiment_label)\n",
        "df_pfizer_articles['date'] = pd.to_datetime(df_pfizer_articles['date'])"
      ],
      "metadata": {
        "id": "vVTmuYuMC3AC"
      },
      "execution_count": null,
      "outputs": []
    },
    {
      "cell_type": "code",
      "source": [
        "# Let's see how our dataset looks like now\n",
        "df_pfizer_articles.info()"
      ],
      "metadata": {
        "id": "iy-7tDMRrGwu"
      },
      "execution_count": null,
      "outputs": []
    },
    {
      "cell_type": "code",
      "source": [
        "# Lets count our positive negative and neutral values.\n",
        "sentiment_counts = df_pfizer_articles['full_text_sentiment_label'].value_counts()\n",
        "\n",
        "print(sentiment_counts)\n",
        "print(\"\\n\")"
      ],
      "metadata": {
        "id": "EhHvSEWiDdPu"
      },
      "execution_count": null,
      "outputs": []
    },
    {
      "cell_type": "markdown",
      "source": [
        "## 1.4 **Grouping data**"
      ],
      "metadata": {
        "id": "GuwFW4Fwlliw"
      }
    },
    {
      "cell_type": "markdown",
      "source": [
        "In this step we will group our articles data by date."
      ],
      "metadata": {
        "id": "TNOmTgOpm1Ot"
      }
    },
    {
      "cell_type": "code",
      "source": [
        "# Group our articles dataset by date use mean for vader scores.\n",
        "grouped_df = df_pfizer_articles.groupby('date').agg(\n",
        "    num_articles=('date', 'size'),\n",
        "    avg_title_compound=('title_vader_compound', 'mean'),\n",
        "    avg_desc_compound=('desc_vader_compound', 'mean'),\n",
        "    avg_full_text_compound=('compound_score', 'mean')\n",
        ").reset_index()\n"
      ],
      "metadata": {
        "id": "--BeBbw6LtAT"
      },
      "execution_count": null,
      "outputs": []
    },
    {
      "cell_type": "code",
      "source": [
        "# Get sentiment labels for our grouped data\n",
        "grouped_df['avg_title_sentiment'] = grouped_df['avg_title_compound'].apply(get_sentiment_label)\n",
        "grouped_df['avg_desc_sentiment'] = grouped_df['avg_desc_compound'].apply(get_sentiment_label)\n",
        "grouped_df['avg_full_text_sentiment'] = grouped_df['avg_full_text_compound'].apply(get_sentiment_label)"
      ],
      "metadata": {
        "id": "mOgbNvDoFz1l"
      },
      "execution_count": null,
      "outputs": []
    },
    {
      "cell_type": "code",
      "source": [
        "# Ensure dates are consistently formatted\n",
        "grouped_df['processed_date'] = grouped_df['date'].apply(lambda x: handle_relative_terms(x, reference_time))\n",
        "grouped_df['standardized_date'] = grouped_df['processed_date'].apply(lambda x: standardize_date(x, current_time=reference_time))"
      ],
      "metadata": {
        "id": "H3oh8sgFNtdp"
      },
      "execution_count": null,
      "outputs": []
    },
    {
      "cell_type": "code",
      "source": [
        "# Replace date column with values from our standardized date\n",
        "grouped_df['date'] = grouped_df['standardized_date']\n",
        "grouped_df.drop(columns={'processed_date','standardized_date'}, inplace=True)"
      ],
      "metadata": {
        "id": "oUEn8dycKiWu"
      },
      "execution_count": null,
      "outputs": []
    },
    {
      "cell_type": "code",
      "source": [
        "grouped_df.tail()"
      ],
      "metadata": {
        "id": "F-bfqmAEMhd4"
      },
      "execution_count": null,
      "outputs": []
    },
    {
      "cell_type": "code",
      "source": [
        "grouped_df.info()"
      ],
      "metadata": {
        "id": "ZT8w_qb7o8UL"
      },
      "execution_count": null,
      "outputs": []
    },
    {
      "cell_type": "markdown",
      "source": [
        "# 2. **Loading stock data**"
      ],
      "metadata": {
        "id": "XC6ui-xtDmyV"
      }
    },
    {
      "cell_type": "markdown",
      "source": [
        "In this step we will load our stock price data."
      ],
      "metadata": {
        "id": "95zeSPILjkij"
      }
    },
    {
      "cell_type": "code",
      "source": [
        "# Our stock price data is stored in 3 separate files ( This is due to the limitations on free download on the website https://www.marketwatch.com/ )\n",
        "stock_price_data = ['./drive/MyDrive/datasets/pfizer/2022.csv','./drive/MyDrive/datasets/pfizer/2023.csv','./drive/MyDrive/datasets/pfizer/2024.csv']"
      ],
      "metadata": {
        "id": "W9yQWM7YoZoJ"
      },
      "execution_count": null,
      "outputs": []
    },
    {
      "cell_type": "code",
      "source": [
        "# Combined our three files in to a singular dataframe\n",
        "df_stock_data = pd.concat([pd.read_csv(file) for file in stock_price_data], ignore_index=True)"
      ],
      "metadata": {
        "id": "94BA0acQoopF"
      },
      "execution_count": null,
      "outputs": []
    },
    {
      "cell_type": "code",
      "source": [
        "# Check how our dataset looks like\n",
        "df_stock_data.info()"
      ],
      "metadata": {
        "id": "r2nyh1eRD1WX"
      },
      "execution_count": null,
      "outputs": []
    },
    {
      "cell_type": "code",
      "source": [
        "# Convert date to the date type\n",
        "df_stock_data['Date'] = pd.to_datetime(df_stock_data['Date'])"
      ],
      "metadata": {
        "id": "co3pQrPrN9MU"
      },
      "execution_count": null,
      "outputs": []
    },
    {
      "cell_type": "code",
      "source": [
        "# Sort values by date\n",
        "df_stock_data = df_stock_data.sort_values(by='Date')"
      ],
      "metadata": {
        "id": "voDSY9gQNPuK"
      },
      "execution_count": null,
      "outputs": []
    },
    {
      "cell_type": "code",
      "source": [
        "# Resulting data\n",
        "df_stock_data.tail(10)"
      ],
      "metadata": {
        "id": "Ak-ufYHKKLRk"
      },
      "execution_count": null,
      "outputs": []
    },
    {
      "cell_type": "code",
      "source": [
        "# Quci visualisation for time series data\n",
        "import matplotlib.pyplot as plt\n",
        "\n",
        "plt.figure(figsize=(12, 6))\n",
        "plt.plot(df_stock_data['Date'], df_stock_data['Close'], label='Stock Close Price', linestyle='-')\n",
        "plt.xlabel('Date')\n",
        "plt.ylabel('Value')\n",
        "plt.title('Stock Price Over Time')\n",
        "plt.legend()\n",
        "plt.xticks(rotation=45)\n",
        "plt.tight_layout()\n",
        "plt.show()"
      ],
      "metadata": {
        "id": "pnKmUgHTUbJX"
      },
      "execution_count": null,
      "outputs": []
    },
    {
      "cell_type": "markdown",
      "source": [
        "# 3. **Merge Datasets**"
      ],
      "metadata": {
        "id": "vkzTsc4jQhVo"
      }
    },
    {
      "cell_type": "markdown",
      "source": [
        "In this step we will merge our two datasets together to get a single dataset to work with."
      ],
      "metadata": {
        "id": "IPP_bzbdpDEz"
      }
    },
    {
      "cell_type": "code",
      "source": [
        "# Lets ensure our date is date format\n",
        "grouped_df['date'] = pd.to_datetime(grouped_df['date'])\n"
      ],
      "metadata": {
        "id": "4o28qMq5Q36Q"
      },
      "execution_count": null,
      "outputs": []
    },
    {
      "cell_type": "code",
      "source": [
        "# Create a new dataset by merging our grouped_df and df_stock_data on Date\n",
        "data_merged_df = pd.merge(grouped_df, df_stock_data, right_on=\"Date\", left_on=\"date\", how='inner')"
      ],
      "metadata": {
        "id": "BIC4YFwyQg4B"
      },
      "execution_count": null,
      "outputs": []
    },
    {
      "cell_type": "code",
      "source": [
        "# Lets remove any unnecessary columns\n",
        "data_merged_df = data_merged_df[['Date', 'num_articles', 'avg_title_compound', 'avg_desc_compound','avg_full_text_compound','avg_full_text_sentiment', 'Close', 'Volume']]"
      ],
      "metadata": {
        "id": "gb_DOTkePN_u"
      },
      "execution_count": null,
      "outputs": []
    },
    {
      "cell_type": "code",
      "source": [
        "# Sort by date\n",
        "data_merged_df = data_merged_df.sort_values(by='Date')"
      ],
      "metadata": {
        "id": "L5ToLfItkQGP"
      },
      "execution_count": null,
      "outputs": []
    },
    {
      "cell_type": "code",
      "source": [
        "# Volume data is stored as a string separated by , lets change our volume data in to a float by replacing our ',' with empty space and casting astype float\n",
        "data_merged_df['Volume'] = data_merged_df['Volume'].str.replace(',', '').astype(float)"
      ],
      "metadata": {
        "id": "v-fzr9EEkf8W"
      },
      "execution_count": null,
      "outputs": []
    },
    {
      "cell_type": "code",
      "source": [
        "# Make our columns lower case\n",
        "data_merged_df.columns = [col.lower() for col in data_merged_df.columns]"
      ],
      "metadata": {
        "id": "34Y8aLyep_8C"
      },
      "execution_count": null,
      "outputs": []
    },
    {
      "cell_type": "code",
      "source": [
        "# Rename close column to something more readable like close_price\n",
        "data_merged_df.rename(columns={\n",
        "    'close': 'close_price'\n",
        "}, inplace=True)"
      ],
      "metadata": {
        "id": "HQm_HX3aqggR"
      },
      "execution_count": null,
      "outputs": []
    },
    {
      "cell_type": "code",
      "source": [
        "# Our resulting dataset\n",
        "data_merged_df.info()"
      ],
      "metadata": {
        "id": "a-o7l_YkQPOd"
      },
      "execution_count": null,
      "outputs": []
    },
    {
      "cell_type": "markdown",
      "source": [
        "# 4. **Sentiment Analysis**."
      ],
      "metadata": {
        "id": "cUpE27-Atghx"
      }
    },
    {
      "cell_type": "markdown",
      "source": [
        "## 4.1 **Grouping In to Weekly Data.**"
      ],
      "metadata": {
        "id": "8gcJCYyrq_9I"
      }
    },
    {
      "cell_type": "markdown",
      "source": [
        "Group data in to weeks."
      ],
      "metadata": {
        "id": "T3yqb8oQS9E-"
      }
    },
    {
      "cell_type": "code",
      "source": [
        "# Group our data in to weekly segments\n",
        "weekly_df = data_merged_df.groupby(pd.Grouper(key='date', freq='W')).agg({\n",
        "    'num_articles': 'sum',\n",
        "    'avg_title_compound': 'mean',\n",
        "    'avg_desc_compound': 'mean',\n",
        "    'avg_full_text_compound': 'mean',\n",
        "    'volume': 'mean',\n",
        "    'close_price': 'mean'\n",
        "}).reset_index()\n"
      ],
      "metadata": {
        "id": "H6TBnYeAfIrY"
      },
      "execution_count": null,
      "outputs": []
    },
    {
      "cell_type": "code",
      "source": [
        "# Remove any records without close_price\n",
        "weekly_df.dropna(subset=['close_price'], inplace=True)"
      ],
      "metadata": {
        "id": "I-UpuIsKfuF5"
      },
      "execution_count": null,
      "outputs": []
    },
    {
      "cell_type": "code",
      "source": [
        "# Apply overall sentiment label\n",
        "weekly_df['sentiment_label'] = weekly_df['avg_full_text_compound'].apply(get_sentiment_label)"
      ],
      "metadata": {
        "id": "9blnb8vBgXa0"
      },
      "execution_count": null,
      "outputs": []
    },
    {
      "cell_type": "code",
      "source": [
        "# Sort data by date\n",
        "weekly_df = weekly_df.sort_values(by = \"date\")"
      ],
      "metadata": {
        "id": "DJ66DIO0f5fu"
      },
      "execution_count": null,
      "outputs": []
    },
    {
      "cell_type": "code",
      "source": [
        "weekly_df.info()"
      ],
      "metadata": {
        "id": "-1dsKKs-fN1w"
      },
      "execution_count": null,
      "outputs": []
    },
    {
      "cell_type": "markdown",
      "source": [
        "## 4.2 **Adding New Features to Our Weekly Dataset.**"
      ],
      "metadata": {
        "id": "R4Hg4AVXrHit"
      }
    },
    {
      "cell_type": "code",
      "source": [
        "# 1️⃣ --- Calculate Weekly Log Returns ---\n",
        "# Get the closing price from the previous week (lagged by 1 period)\n",
        "weekly_df['close_lag1'] = weekly_df['close_price'].shift(1)\n",
        "\n",
        "# Compute the natural logarithm of the ratio of current close price to last week's close price.\n",
        "# Log returns are preferred in financial modeling for their additive properties and\n",
        "# better statistical behavior compared to simple percentage changes.\n",
        "weekly_df['log_return'] = np.log(weekly_df['close_price'] / weekly_df['close_lag1'])\n",
        "\n",
        "# 2️⃣ --- Create Sentiment-Based Features ---\n",
        "# Calculate an 'impact score' for sentiment by multiplying the average full text compound sentiment\n",
        "# by the number of articles. This aims to capture the intensity of emotion weighted by volume.\n",
        "weekly_df['impact_score'] = weekly_df['avg_full_text_compound'] * weekly_df['num_articles']\n",
        "\n",
        "# Determine the volatility (standard deviation) of the average full text sentiment\n",
        "# over a 12-week rolling window. This indicates how unstable or consistent sentiment has been.\n",
        "weekly_df['sentiment_vol'] = weekly_df['avg_full_text_compound'].rolling(12).std()\n",
        "\n",
        "# 3️⃣ --- Generate Volatility-Based Features (and a potential future target) ---\n",
        "# Calculate the rolling 12-week standard deviation of log returns.\n",
        "# This serves as a measure of historical price volatility for the current period.\n",
        "weekly_df['rolling_std_5'] = weekly_df['log_return'].rolling(window=12).std()\n",
        "\n",
        "# Create a lagged version of the rolling volatility.\n",
        "# Shifting by -1 means this column will contain the volatility for the *next* period.\n",
        "# This variable could serve as a target for predicting future volatility,\n",
        "# or as a feature if the model is designed to look ahead (though typically\n",
        "# future information is avoided in features to prevent data leakage for prediction tasks).\n",
        "weekly_df['rolling_std_5_lag1'] = weekly_df['rolling_std_5'].shift(-1)\n",
        "\n",
        "# 4️⃣ --- Blend Multiple Sentiment Scores into a Weighted Score ---\n",
        "# Create a composite 'weighted_sentiment' by combining sentiment scores from different\n",
        "# parts of an article (description, full text, title) with custom weights.\n",
        "# The weights are chosen based on the perceived richness/impact of each text section:\n",
        "# - Description (0.5): Often concise and highlights key sentiment.\n",
        "# - Full Text (0.3): Provides broader context, but can be diluted.\n",
        "# - Title (0.2): Short but can be very impactful or clickbait-driven.\n",
        "weekly_df['weighted_sentiment'] = (\n",
        "    0.5 * weekly_df['avg_desc_compound'] +   # Highest weight for description sentiment\n",
        "    0.3 * weekly_df['avg_full_text_compound'] +  # Medium weight for full text sentiment\n",
        "    0.2 * weekly_df['avg_title_compound']    # Lowest weight for title sentiment\n",
        ")\n",
        "\n",
        "# Calculate the simple percentage change in close price for the current period.\n",
        "weekly_df['return'] = weekly_df['close_price'].pct_change()\n",
        "\n",
        "# Define the primary target variable: the simple percentage change in close price\n",
        "# for the *next* period (shifted backwards by 1 to align with current features).\n",
        "weekly_df['next_return'] = weekly_df['close_price'].pct_change().shift(-1)"
      ],
      "metadata": {
        "id": "UmHObpwaQask"
      },
      "execution_count": null,
      "outputs": []
    },
    {
      "cell_type": "markdown",
      "source": [
        "## 4.3 **Exploring Negative and Positive Sentiment Using Closing Price Time Series**"
      ],
      "metadata": {
        "id": "ylyjoKLtre0m"
      }
    },
    {
      "cell_type": "markdown",
      "source": [
        "In this step we will simply visualise negative and positive weeks on our price chart."
      ],
      "metadata": {
        "id": "zR80l8Q6rozG"
      }
    },
    {
      "cell_type": "code",
      "source": [
        "# 🧼 1. Filter the dataset by sentiment labels\n",
        "# Separate weeks with negative sentiment\n",
        "negative_df = weekly_df[weekly_df['sentiment_label'] == 'Negative'].copy()\n",
        "\n",
        "# Separate weeks with positive sentiment\n",
        "positive_df = weekly_df[weekly_df['sentiment_label'] == 'Positive'].copy()\n",
        "\n",
        "# 📊 2. Begin plotting the stock price and sentiment annotations\n",
        "plt.figure(figsize=(12, 6))  # Create a new figure with a wide format for clarity\n",
        "\n",
        "# Plot the full stock price time series in gray as the baseline\n",
        "plt.plot(\n",
        "    weekly_df['date'],\n",
        "    weekly_df['close_price'],\n",
        "    label='Stock Price',\n",
        "    color='gray',\n",
        "    linewidth=1.5\n",
        ")\n",
        "\n",
        "# 🔴 Overlay points where sentiment was negative — red dots on those weeks\n",
        "plt.scatter(\n",
        "    negative_df['date'],\n",
        "    negative_df['close_price'],\n",
        "    color='red',\n",
        "    label='Negative Sentiment',\n",
        "    zorder=5  # Ensure scatter points appear on top\n",
        ")\n",
        "\n",
        "# 🟢 Overlay points where sentiment was positive — green dots for contrast\n",
        "plt.scatter(\n",
        "    positive_df['date'],\n",
        "    positive_df['close_price'],\n",
        "    color='green',\n",
        "    label='Positive Sentiment',\n",
        "    zorder=5\n",
        ")\n",
        "\n",
        "# 🧱 Add plot styling and context\n",
        "plt.grid(visible=True)                             # Add a grid for easier interpretation\n",
        "plt.title('Stock Price with Highlighted Sentiment Weeks')  # Set the plot title\n",
        "plt.xlabel('Date')                                 # Label the x-axis\n",
        "plt.ylabel('Close Price')                          # Label the y-axis\n",
        "plt.legend()                                       # Add a legend to explain the colors\n",
        "plt.tight_layout()                                 # Prevent label and element overlap\n",
        "plt.show()                                         # Render the final plot"
      ],
      "metadata": {
        "id": "mkvUKllFu-PI"
      },
      "execution_count": null,
      "outputs": []
    },
    {
      "cell_type": "markdown",
      "source": [
        "## 4.4 **Build a Features Correlation Matrix.**"
      ],
      "metadata": {
        "id": "8jzFq5n-rzJN"
      }
    },
    {
      "cell_type": "markdown",
      "source": [
        "In this step we will create a simple correlation matrix to see which of our features correlate together."
      ],
      "metadata": {
        "id": "dcxZb1p2wJXT"
      }
    },
    {
      "cell_type": "code",
      "source": [
        "#Calculate correlation for a specific subset of columns\n",
        "features = [\n",
        "    'weighted_sentiment', 'impact_score', 'sentiment_vol',\n",
        "    'rolling_std_5', 'volume', 'log_return', 'next_return' # Add other relevant features/targets\n",
        "]\n",
        "selected_df = weekly_df[features]\n",
        "correlation_matrix_subset = selected_df.corr()\n",
        "print(correlation_matrix_subset)"
      ],
      "metadata": {
        "id": "J2vnMg70hH3W"
      },
      "execution_count": null,
      "outputs": []
    },
    {
      "cell_type": "markdown",
      "source": [
        "## 4.5 **Granger Casuality Test**"
      ],
      "metadata": {
        "id": "lA8jOGbHsKTC"
      }
    },
    {
      "cell_type": "markdown",
      "source": [
        "In this step we will run the granger casuality test on weighted sentiment to establish whether weighted sentiment has predictive qualities when it comes to next_return (the simple percentage change in close price) ."
      ],
      "metadata": {
        "id": "8N7lfmStwPYh"
      }
    },
    {
      "cell_type": "code",
      "source": [
        "# 🧼 1. Prepare the data\n",
        "# Select only the sentiment signal and stock closing price, drop rows with missing values\n",
        "df_gc = weekly_df[['weighted_sentiment', 'next_return']].dropna()\n",
        "\n",
        "# ⚗️ 2. Define maximum lag to test for causal influence\n",
        "max_lag = 12\n",
        "\n",
        "# 🧪 3. Run Granger causality test up to max_lag\n",
        "# This tests whether past values of sentiment can help predict future Close prices\n",
        "test_result = grangercausalitytests(df_gc, maxlag=max_lag, verbose=False)\n",
        "\n",
        "# 📈 4. Extract F-test p-values for each lag\n",
        "# We round for readability and store them in a list\n",
        "p_values = [round(test_result[i + 1][0]['ssr_ftest'][1], 4) for i in range(max_lag)]\n",
        "\n",
        "# 📊 5. Plot p-values across different lags to visualize significance\n",
        "plt.figure(figsize=(8, 5))\n",
        "plt.plot(range(1, max_lag + 1), p_values, marker='o', linestyle='-')\n",
        "\n",
        "# 🔺 Add a red dashed line at p = 0.05 to mark the statistical significance threshold\n",
        "plt.axhline(y=0.05, color='red', linestyle='--', label='0.05 Significance Threshold')\n",
        "\n",
        "# 🏷 Annotate the plot\n",
        "plt.title('Granger Causality Test: Weighted Sentiment → Next Return')\n",
        "plt.xlabel('Lag')\n",
        "plt.ylabel('F-test p-value')\n",
        "plt.xticks(range(1, max_lag + 1))\n",
        "plt.legend()\n",
        "plt.grid(True)\n",
        "plt.tight_layout()\n",
        "plt.show()"
      ],
      "metadata": {
        "id": "tTifJp6tz0cb"
      },
      "execution_count": null,
      "outputs": []
    },
    {
      "cell_type": "markdown",
      "source": [
        "## 4.6 **XGBoost Model.**"
      ],
      "metadata": {
        "id": "npBWGVopsbsZ"
      }
    },
    {
      "cell_type": "markdown",
      "source": [
        "In this step we will utilise XGBoost Model on our previously created features"
      ],
      "metadata": {
        "id": "i5J0CNURwkd8"
      }
    },
    {
      "cell_type": "code",
      "source": [
        "features = [\n",
        "     'weighted_sentiment', 'impact_score', 'sentiment_vol',  'rolling_std_5', 'volume'\n",
        "]\n",
        "target = 'next_return'\n",
        "\n",
        "df_model = weekly_df.dropna(subset=features + [target])\n",
        "X = df_model[features]\n",
        "y = df_model[target]\n",
        "\n",
        "X_train, X_test, y_train, y_test = train_test_split(X, y, shuffle=False, test_size=0.2)\n",
        "\n",
        "model = XGBRegressor()\n",
        "model.fit(X_train, y_train)\n",
        "preds = model.predict(X_test)\n",
        "\n",
        "print(\"R²:\", r2_score(y_test, preds))\n",
        "print(\"RMSE:\", np.sqrt(mean_squared_error(y_test, preds)))"
      ],
      "metadata": {
        "id": "hCVwWsy4QTM_"
      },
      "execution_count": null,
      "outputs": []
    },
    {
      "cell_type": "markdown",
      "source": [
        "### 4.7.1 **Visualise XGBoost Results.**"
      ],
      "metadata": {
        "id": "pSPUbR4zsoPd"
      }
    },
    {
      "cell_type": "markdown",
      "source": [
        "Let's visualise how well does our model performs."
      ],
      "metadata": {
        "id": "F-mLFdqWwpsx"
      }
    },
    {
      "cell_type": "code",
      "source": [
        "# 📐 Create a new figure window with a defined size (10 inches wide, 5 inches tall)\n",
        "plt.figure(figsize=(10, 5))\n",
        "\n",
        "# 📈 Plot the actual values (ground truth) using circles at each point\n",
        "plt.plot(y_test.values, label='Actual', marker='o')\n",
        "\n",
        "# 🔮 Plot the predicted values using x-marks for visual contrast\n",
        "plt.plot(preds, label='Predicted', marker='x')\n",
        "\n",
        "# 🏷 Add a title showing what we're comparing\n",
        "plt.title('Actual vs Predicted: ' + target)\n",
        "\n",
        "# 🧭 Label the x-axis (each point represents a week or sample)\n",
        "plt.xlabel('Sample Index')\n",
        "\n",
        "# 📊 Label the y-axis with the name of the target variable\n",
        "plt.ylabel(target)\n",
        "\n",
        "# 🧾 Add a legend so we know which line is which\n",
        "plt.legend()\n",
        "\n",
        "# 🧱 Add a grid to make the chart easier to read\n",
        "plt.grid(True)\n",
        "\n",
        "# 🧼 Ensure everything fits neatly and labels don't overlap\n",
        "plt.tight_layout()\n",
        "\n",
        "# 👁 Display the plot\n",
        "plt.show()"
      ],
      "metadata": {
        "id": "uAkh2G0PQhR4"
      },
      "execution_count": null,
      "outputs": []
    }
  ]
}